{
 "cells": [
  {
   "cell_type": "code",
   "execution_count": 1,
   "metadata": {
    "collapsed": false
   },
   "outputs": [
    {
     "name": "stdout",
     "output_type": "stream",
     "text": [
      "Normalizing data (or loaded pre-computed)\n",
      "Parsing from zip. Will write to file /home/sami/py-graph/LJ-cleaned-shuffled.npy\n",
      "ORIGINAL DIST: 1349.1044268649273 MIN: 0 MAX: 4038\n",
      "CPU times: user 312 ms, sys: 3.91 ms, total: 316 ms\n",
      "Wall time: 316 ms\n",
      "Parsing from zip. Will write to file /home/sami/py-graph/LJ-cleaned.npy\n",
      "ORIGINAL DIST: 289.4173561212231 MIN: 0 MAX: 4038\n",
      "CPU times: user 185 ms, sys: 12.1 ms, total: 197 ms\n",
      "Wall time: 197 ms\n",
      "\n",
      "EDGES SHAPE: (176468, 2)\n"
     ]
    }
   ],
   "source": [
    "from shared import get_clean_data\n",
    "\n",
    "print(\"Normalizing data (or loaded pre-computed)\")\n",
    "%time edges, num_edges, num_nodes = get_clean_data(shuffle=True)\n",
    "%time unshuffled_edges, unshuffled_num_edges, unshuffled_num_nodes = get_clean_data(shuffle=False)\n",
    "print('\\nEDGES SHAPE: {}'.format(edges.shape))"
   ]
  },
  {
   "cell_type": "code",
   "execution_count": 2,
   "metadata": {
    "collapsed": false
   },
   "outputs": [
    {
     "name": "stdout",
     "output_type": "stream",
     "text": [
      "Populating the interactive namespace from numpy and matplotlib\n"
     ]
    }
   ],
   "source": [
    "%load_ext Cython\n",
    "%pylab inline"
   ]
  },
  {
   "cell_type": "code",
   "execution_count": 3,
   "metadata": {
    "collapsed": false
   },
   "outputs": [],
   "source": [
    "%%cython\n",
    "import numpy as np\n",
    "cimport cython\n",
    "\n",
    "cdef int UNMAPPED = -1\n",
    "\n",
    "def linear_deterministic_greedy(int[:,::] edges,\n",
    "                                int num_nodes,\n",
    "                                int num_partitions,\n",
    "                                int[::] partition):\n",
    "    \"\"\"\n",
    "    This algorithm favors a cluster if it has many neighbors of a node, but\n",
    "    penalizes the cluster if it is close to capacity.\n",
    "    \n",
    "    edges: An [:,2] array of edges.\n",
    "    num_nodes: The number of nodes in the graph.\n",
    "    num_partitions: How many partitions we are breaking the graph into.\n",
    "    partition: The partition from a previous run. Used for restreaming.\n",
    "\n",
    "    Returns: A new partition.\n",
    "    \"\"\"\n",
    "    # The output partition\n",
    "\n",
    "    if partition is None:\n",
    "        partition = np.repeat(np.int32(UNMAPPED), num_nodes)\n",
    "\n",
    "    cdef int[::] partition_sizes = np.zeros(num_partitions, dtype=np.int32)\n",
    "         \n",
    "    cdef int[::] partition_votes = np.zeros(num_partitions, dtype=np.int32)\n",
    "    \n",
    "    # Fine to be a little off, to stay integers\n",
    "    cdef int partition_capacity = num_nodes / num_partitions\n",
    "    \n",
    "    cdef int last_left = edges[0,0]\n",
    "    cdef int i = 0\n",
    "    cdef int left = 0\n",
    "    cdef int right = 0\n",
    "    cdef int arg = 0\n",
    "    cdef int max_arg = 0\n",
    "    cdef int max_val = 0\n",
    "    cdef int val = 0\n",
    "    cdef int len_edges = len(edges)\n",
    "    \n",
    "    import time\n",
    "    \n",
    "    #print (\"EDGES:{}\".format(len_edges))\n",
    "    \n",
    "    for i in range(len_edges):\n",
    "        left = edges[i,0]\n",
    "        right = edges[i,1]\n",
    "    \n",
    "        if last_left != left:\n",
    "            # We have found a new node so assign last_left to a partition\n",
    "            #print(\"Found a new node\")\n",
    "            #print(\"\\tleft: {}\".format(left))\n",
    "            #print(\"\\tright: {}\".format(right))\n",
    "                \n",
    "            max_arg = 0\n",
    "            max_val = (partition_votes[0]) * (\n",
    "                       partition_capacity - partition_sizes[0])\n",
    "\n",
    "            for arg in range(1, num_partitions):\n",
    "                val = (partition_votes[arg]) * (\n",
    "                       partition_capacity - partition_sizes[arg])\n",
    "                if val > max_val:\n",
    "                    max_arg = arg\n",
    "                    max_val = val\n",
    "\n",
    "            if max_val == 0:\n",
    "                max_arg = arg\n",
    "                # No neighbors (or multiple maxed out) so \"randomly\" select\n",
    "                # the smallest partition\n",
    "                for arg in range(i % num_partitions, num_partitions):\n",
    "                    if partition_sizes[arg] < partition_capacity:\n",
    "                        max_arg = arg\n",
    "                        max_val = 1\n",
    "                        break\n",
    "                if max_val == 0:\n",
    "                    for arg in range(0, i % num_partitions):\n",
    "                        if partition_sizes[arg] < partition_capacity:\n",
    "                            max_arg = arg\n",
    "                            break\n",
    "\n",
    "\n",
    "            partition_sizes[max_arg] += 1\n",
    "            partition[last_left] = max_arg\n",
    "            partition_votes[:] = 0\n",
    "            last_left = left\n",
    "            \n",
    "            #print(\"\\tpartition_sizes for {}: {}\".format(partition_sizes[max_arg], max_arg))\n",
    "            #print(\"\\tmax_arg: {}\".format(max_arg))\n",
    "            #print(\"\\tmax_val: {}\".format(max_val))\n",
    "\n",
    "            #time.sleep(1)\n",
    "            \n",
    "        if partition[right] != UNMAPPED:\n",
    "            partition_votes[partition[right]] += 1\n",
    "\n",
    "\n",
    "    # Clean up the last assignment\n",
    "    max_arg = 0\n",
    "    max_val = 0\n",
    "    for arg in range(0, num_partitions):\n",
    "        if partition_sizes[arg] < partition_capacity:\n",
    "            val = (partition_votes[arg]) * (\n",
    "                    1 - partition_sizes[arg] / partition_capacity)\n",
    "            if val > max_val:\n",
    "                max_arg = arg\n",
    "                max_val = val\n",
    "    partition[left] = max_arg\n",
    "\n",
    "    return np.asarray(partition)"
   ]
  },
  {
   "cell_type": "code",
   "execution_count": 4,
   "metadata": {
    "collapsed": false
   },
   "outputs": [],
   "source": [
    "def draw_figures(waste_values, edge_score_values, num_partitions):\n",
    "    fig, axes = plt.subplots(nrows=1, ncols=2)\n",
    "    \n",
    "    (waste_axes, score_axes) = axes\n",
    "    waste_axes.plot(waste_values, 'r')\n",
    "    waste_axes.set_xlabel('Round')\n",
    "    waste_axes.set_ylabel('Number of wasted bins')\n",
    "    waste_axes.set_ylim(bottom=0)\n",
    "    waste_axes.set_title('Wasted Bins: {} partitions'.format(num_partitions))\n",
    "    \n",
    "    score_axes.plot(edge_score_values, 'r')\n",
    "    score_axes.set_xlabel('Round')\n",
    "    score_axes.set_ylabel('Ratio of edges crossing partitions')\n",
    "    score_axes.set_ylim(bottom=0)\n",
    "    score_axes.set_title('Score: {} partitions'.format(num_partitions))\n",
    "    \n",
    "    fig.tight_layout()"
   ]
  },
  {
   "cell_type": "code",
   "execution_count": 5,
   "metadata": {
    "collapsed": false
   },
   "outputs": [],
   "source": [
    "from shared import score\n",
    "\n",
    "def run_restreaming_greedy(edges, num_nodes, num_partitions=10, num_iterations=10):\n",
    "    print('\\n{} PARTITIONS'.format(num_partitions))\n",
    "    assignments = None\n",
    "    print('ROUND\\tWASTE\\tSCORE\\tCUT')\n",
    "    waste_values = []\n",
    "    edge_score_values = []\n",
    "    flipped_edges = numpy.flipud(edges).copy()\n",
    "\n",
    "    for i in range(num_iterations):\n",
    "        assignments = linear_deterministic_greedy(edges, num_nodes, num_partitions, assignments)\n",
    "        (waste, edge_score, edges_cut) = score(assignments, edges)\n",
    "        waste_values.append(waste)\n",
    "        edge_score_values.append(edge_score)\n",
    "        print('{}\\t{:0.3f}\\t{:0.3f}\\t{}'.format(i, waste, edge_score, edges_cut))\n",
    "    \n",
    "    with open(\"assignments.txt\", \"w\") as f:\n",
    "        j = 0\n",
    "        for a in assignments:\n",
    "            #print(\"\\t{} {}\".format(j,a))\n",
    "            f.write(\"{} {}\\n\".format(j,a))\n",
    "            j += 1\n",
    "    #print(repr(assignments))\n",
    "    draw_figures(waste_values, edge_score_values, num_partitions)"
   ]
  },
  {
   "cell_type": "code",
   "execution_count": 6,
   "metadata": {
    "collapsed": false
   },
   "outputs": [
    {
     "name": "stdout",
     "output_type": "stream",
     "text": [
      "\n",
      "4 PARTITIONS\n",
      "ROUND\tWASTE\tSCORE\tCUT\n",
      "0\t0.001\t0.286\t50404\n",
      "1\t0.001\t0.086\t15220\n",
      "2\t0.001\t0.070\t12436\n",
      "3\t0.001\t0.074\t13048\n",
      "4\t0.001\t0.071\t12512\n",
      "5\t0.001\t0.068\t11934\n",
      "6\t0.001\t0.073\t12796\n",
      "7\t0.001\t0.082\t14434\n",
      "8\t0.001\t0.063\t11142\n",
      "9\t0.001\t0.058\t10260\n",
      "10\t0.001\t0.056\t9950\n",
      "11\t0.001\t0.056\t9872\n",
      "12\t0.001\t0.054\t9584\n",
      "13\t0.001\t0.051\t9026\n",
      "14\t0.001\t0.052\t9114\n",
      "CPU times: user 167 ms, sys: 3.68 ms, total: 171 ms\n",
      "Wall time: 170 ms\n"
     ]
    },
    {
     "data": {
      "image/png": "[encoded data removed]",
      "text/plain": [
       "<matplotlib.figure.Figure at 0x7fe1311f2b70>"
      ]
     },
     "metadata": {},
     "output_type": "display_data"
    }
   ],
   "source": [
    "# Use the greedy method to break into 4 partitions\n",
    "%time run_restreaming_greedy(edges, num_nodes, num_partitions=4, num_iterations=15)"
   ]
  },
  {
   "cell_type": "code",
   "execution_count": 7,
   "metadata": {
    "collapsed": false
   },
   "outputs": [
    {
     "name": "stdout",
     "output_type": "stream",
     "text": [
      "\n",
      "40 PARTITIONS\n",
      "ROUND\tWASTE\tSCORE\tCUT\n",
      "0\t0.367\t0.696\t122898\n",
      "1\t0.367\t0.600\t105854\n",
      "2\t0.367\t0.553\t97564\n",
      "3\t0.367\t0.518\t91410\n",
      "4\t0.367\t0.505\t89180\n",
      "5\t0.367\t0.489\t86340\n",
      "6\t0.367\t0.479\t84536\n",
      "7\t0.367\t0.482\t85118\n",
      "8\t0.367\t0.479\t84588\n",
      "9\t0.367\t0.479\t84616\n",
      "10\t0.367\t0.475\t83804\n",
      "11\t0.367\t0.475\t83826\n",
      "12\t0.367\t0.479\t84530\n",
      "13\t0.367\t0.478\t84412\n",
      "14\t0.367\t0.476\t84046\n",
      "CPU times: user 179 ms, sys: 7.94 ms, total: 187 ms\n",
      "Wall time: 186 ms\n"
     ]
    },
    {
     "data": {
      "image/png": "[encoded data removed]",
      "text/plain": [
       "<matplotlib.figure.Figure at 0x7fe130ebceb8>"
      ]
     },
     "metadata": {},
     "output_type": "display_data"
    }
   ],
   "source": [
    "# Use the greedy method to break into 20 partitions\n",
    "%time run_restreaming_greedy(edges, num_nodes, num_partitions=40, num_iterations=15)"
   ]
  }
 ],
 "metadata": {
  "celltoolbar": "Raw Cell Format",
  "kernelspec": {
   "display_name": "Python 3",
   "language": "python",
   "name": "python3"
  },
  "language_info": {
   "codemirror_mode": {
    "name": "ipython",
    "version": 3
   },
   "file_extension": ".py",
   "mimetype": "text/x-python",
   "name": "python",
   "nbconvert_exporter": "python",
   "pygments_lexer": "ipython3",
   "version": "3.4.3"
  }
 },
 "nbformat": 4,
 "nbformat_minor": 0
}
