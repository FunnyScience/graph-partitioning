{
 "cells": [
  {
   "cell_type": "code",
   "execution_count": 1,
   "metadata": {
    "collapsed": false
   },
   "outputs": [
    {
     "name": "stdout",
     "output_type": "stream",
     "text": [
      "Normalizing data (or loaded pre-computed)\n",
      "Parsing from zip. Will write to file /home/sami/py-graph/fb_simple.txt-cleaned.npy\n",
      "ORIGINAL DIST: 170.37209302325581 MIN: 0 MAX: 347\n",
      "CPU times: user 4.43 ms, sys: 3.98 ms, total: 8.41 ms\n",
      "Wall time: 8.29 ms\n",
      "\n",
      "EDGES SHAPE: (430, 2)\n"
     ]
    }
   ],
   "source": [
    "from shared import get_clean_data\n",
    "\n",
    "#DATA_FILENAME = '/home/sami/py-graph/facebook_combined.txt.gz'\n",
    "DATA_FILENAME = '/home/sami/py-graph/fb_simple.txt.gz'\n",
    "\n",
    "print(\"Normalizing data (or loaded pre-computed)\")\n",
    "%time edges, num_edges, num_nodes = get_clean_data(DATA_FILENAME, shuffle=False, save_readable=True)\n",
    "print('\\nEDGES SHAPE: {}'.format(edges.shape))"
   ]
  },
  {
   "cell_type": "code",
   "execution_count": 2,
   "metadata": {
    "collapsed": false
   },
   "outputs": [
    {
     "name": "stdout",
     "output_type": "stream",
     "text": [
      "Populating the interactive namespace from numpy and matplotlib\n"
     ]
    }
   ],
   "source": [
    "%load_ext Cython\n",
    "%pylab inline"
   ]
  },
  {
   "cell_type": "code",
   "execution_count": 57,
   "metadata": {
    "collapsed": false
   },
   "outputs": [],
   "source": [
    "%%cython\n",
    "import numpy as np\n",
    "cimport cython\n",
    "\n",
    "cdef int UNMAPPED = -1\n",
    "\n",
    "def linear_deterministic_greedy(int[:,::] edges,\n",
    "                                int num_nodes,\n",
    "                                int num_partitions,\n",
    "                                int[::] partition):\n",
    "    \"\"\"\n",
    "    This algorithm favors a cluster if it has many neighbors of a node, but\n",
    "    penalizes the cluster if it is close to capacity.\n",
    "    \n",
    "    edges: An [:,2] array of edges.\n",
    "    num_nodes: The number of nodes in the graph.\n",
    "    num_partitions: How many partitions we are breaking the graph into.\n",
    "    partition: The partition from a previous run. Used for restreaming.\n",
    "\n",
    "    Returns: A new partition.\n",
    "    \"\"\"\n",
    "    # The output partition\n",
    "\n",
    "    if partition is None:\n",
    "        partition = np.repeat(np.int32(UNMAPPED), num_nodes)\n",
    "\n",
    "    cdef int[::] partition_sizes = np.zeros(num_partitions, dtype=np.int32)\n",
    "         \n",
    "    cdef int[::] partition_votes = np.zeros(num_partitions, dtype=np.int32)\n",
    "    \n",
    "    # Fine to be a little off, to stay integers\n",
    "    cdef int partition_capacity = num_nodes / num_partitions\n",
    "    \n",
    "    cdef int last_left = edges[0,0]\n",
    "    cdef int i = 0\n",
    "    cdef int left = 0\n",
    "    cdef int right = 0\n",
    "    cdef int arg = 0\n",
    "    cdef int max_arg = 0\n",
    "    cdef int max_val = 0\n",
    "    cdef int val = 0\n",
    "    cdef int len_edges = len(edges)\n",
    "    \n",
    "    import time\n",
    "    \n",
    "    print (\"EDGES:{}\".format(len_edges))\n",
    "    \n",
    "    for i in range(len_edges):\n",
    "        left = edges[i,0]\n",
    "        right = edges[i,1]\n",
    "    \n",
    "        if last_left != left:\n",
    "            # We have found a new node so assign last_left to a partition\n",
    "            #print(\"Found a new node\")\n",
    "            #print(\"\\tleft: {}\".format(left))\n",
    "            #print(\"\\tright: {}\".format(right))\n",
    "                \n",
    "            max_arg = 0\n",
    "            max_val = (partition_votes[0]) * (\n",
    "                       partition_capacity - partition_sizes[0])\n",
    "\n",
    "            for arg in range(1, num_partitions):\n",
    "                val = (partition_votes[arg]) * (\n",
    "                       partition_capacity - partition_sizes[arg])\n",
    "                if val > max_val:\n",
    "                    max_arg = arg\n",
    "                    max_val = val\n",
    "\n",
    "            if max_val == 0:\n",
    "                max_arg = arg\n",
    "                # No neighbors (or multiple maxed out) so \"randomly\" select\n",
    "                # the smallest partition\n",
    "                for arg in range(i % num_partitions, num_partitions):\n",
    "                    if partition_sizes[arg] < partition_capacity:\n",
    "                        max_arg = arg\n",
    "                        max_val = 1\n",
    "                        break\n",
    "                if max_val == 0:\n",
    "                    for arg in range(0, i % num_partitions):\n",
    "                        if partition_sizes[arg] < partition_capacity:\n",
    "                            max_arg = arg\n",
    "                            break\n",
    "\n",
    "\n",
    "            partition_sizes[max_arg] += 1\n",
    "            partition[last_left] = max_arg\n",
    "            partition_votes[:] = 0\n",
    "            last_left = left\n",
    "            \n",
    "            #print(\"\\tpartition_sizes for {}: {}\".format(partition_sizes[max_arg], max_arg))\n",
    "            #print(\"\\tmax_arg: {}\".format(max_arg))\n",
    "            #print(\"\\tmax_val: {}\".format(max_val))\n",
    "\n",
    "            #time.sleep(1)\n",
    "            \n",
    "        if partition[right] != UNMAPPED:\n",
    "            partition_votes[partition[right]] += 1\n",
    "\n",
    "\n",
    "    # Clean up the last assignment\n",
    "    max_arg = 0\n",
    "    max_val = 0\n",
    "    for arg in range(0, num_partitions):\n",
    "        if partition_sizes[arg] < partition_capacity:\n",
    "            val = (partition_votes[arg]) * (\n",
    "                    1 - partition_sizes[arg] / partition_capacity)\n",
    "            if val > max_val:\n",
    "                max_arg = arg\n",
    "                max_val = val\n",
    "    partition[left] = max_arg\n",
    "\n",
    "    return np.asarray(partition)"
   ]
  },
  {
   "cell_type": "code",
   "execution_count": 4,
   "metadata": {
    "collapsed": false
   },
   "outputs": [],
   "source": [
    "def draw_figures(waste_values, edge_score_values, num_partitions):\n",
    "    fig, axes = plt.subplots(nrows=1, ncols=2)\n",
    "    \n",
    "    (waste_axes, score_axes) = axes\n",
    "    waste_axes.plot(waste_values, 'r')\n",
    "    waste_axes.set_xlabel('Round')\n",
    "    waste_axes.set_ylabel('Number of wasted bins')\n",
    "    waste_axes.set_ylim(bottom=0)\n",
    "    waste_axes.set_title('Wasted Bins: {} partitions'.format(num_partitions))\n",
    "    \n",
    "    score_axes.plot(edge_score_values, 'r')\n",
    "    score_axes.set_xlabel('Round')\n",
    "    score_axes.set_ylabel('Ratio of edges crossing partitions')\n",
    "    score_axes.set_ylim(bottom=0)\n",
    "    score_axes.set_title('Score: {} partitions'.format(num_partitions))\n",
    "    \n",
    "    fig.tight_layout()"
   ]
  },
  {
   "cell_type": "code",
   "execution_count": 53,
   "metadata": {
    "collapsed": false
   },
   "outputs": [],
   "source": [
    "from shared import score\n",
    "\n",
    "\n",
    "def run_restreaming_greedy(edges, num_nodes, num_partitions=10, num_iterations=10):\n",
    "    print('\\n{} PARTITIONS'.format(num_partitions))\n",
    "    assignments = None\n",
    "    print('ROUND\\tWASTE\\tSCORE\\tCUT')\n",
    "    waste_values = []\n",
    "    edge_score_values = []\n",
    "    flipped_edges = numpy.flipud(edges).copy()\n",
    "\n",
    "    for i in range(num_iterations):\n",
    "        assignments = linear_deterministic_greedy(edges, num_nodes, num_partitions, assignments)\n",
    "        (waste, edge_score, edges_cut) = score(assignments, edges)\n",
    "        waste_values.append(waste)\n",
    "        edge_score_values.append(edge_score)\n",
    "        print('{}\\t{:0.3f}\\t{:0.3f}\\t{}'.format(i, waste, edge_score, edges_cut))\n",
    "    \n",
    "    with open(\"assignments.txt\", \"w\") as f:\n",
    "        j = 0\n",
    "        for a in assignments:\n",
    "            f.write(\"{} {}\\n\".format(j,a))\n",
    "            j += 1\n",
    "\n",
    "    draw_figures(waste_values, edge_score_values, num_partitions)\n",
    "    \n",
    "def run_restreaming_greedy_stepped(edges, node):\n",
    "    # XXX: this can certainly be optimised using memoryviews\n",
    "    \n",
    "    # initialise left node to first item in edge list\n",
    "    left = edges[0][0]\n",
    "    stepped_edges = []\n",
    "    count = 0\n",
    "    node += 1\n",
    "\n",
    "    for e in edges:\n",
    "        if left != e[0]:\n",
    "            left = e[0]\n",
    "\n",
    "        if left == node:\n",
    "            break\n",
    "            \n",
    "        stepped_edges.append(e)\n",
    "        count += 1\n",
    "\n",
    "    m = max([x[0] for x in stepped_edges])\n",
    "    stepped_edges = [[x[0],x[1]] for x in stepped_edges if x[1] <= m]\n",
    "    if not stepped_edges:\n",
    "        return (np.zeros((1, 2), dtype=np.int32), 0)\n",
    "    \n",
    "    num_nodes = max([x[0] for x in stepped_edges] + [x[1] for x in stepped_edges]) + 1\n",
    "    as_array = np.zeros((len(stepped_edges), 2), dtype=np.int32)\n",
    "    for (i, (n_0, n_1)) in enumerate(stepped_edges):\n",
    "        as_array[i,0] = n_0\n",
    "        as_array[i,1] = n_1\n",
    "    return (as_array, num_nodes)"
   ]
  },
  {
   "cell_type": "code",
   "execution_count": 64,
   "metadata": {
    "collapsed": false
   },
   "outputs": [
    {
     "name": "stdout",
     "output_type": "stream",
     "text": [
      "EDGES: len(430)\n",
      "6\n",
      "2\n",
      "EDGES:2\n",
      "Node: 1 -> assignment: 0\n",
      "6\n",
      "4\n",
      "EDGES:4\n"
     ]
    },
    {
     "ename": "IndexError",
     "evalue": "Out of bounds on buffer access (axis 0)",
     "output_type": "error",
     "traceback": [
      "\u001b[1;31m---------------------------------------------------------------------------\u001b[0m",
      "\u001b[1;31mIndexError\u001b[0m                                Traceback (most recent call last)",
      "\u001b[1;32m<ipython-input-64-c26cacdfcd3c>\u001b[0m in \u001b[0;36m<module>\u001b[1;34m()\u001b[0m\n\u001b[0;32m     12\u001b[0m     \u001b[1;31m# XXX: num_nodes is the wrong value here, it should be num_edges,\u001b[0m\u001b[1;33m\u001b[0m\u001b[1;33m\u001b[0m\u001b[0m\n\u001b[0;32m     13\u001b[0m     \u001b[1;31m# however we are dealing with an undirected graph so we can't simply len(e)\u001b[0m\u001b[1;33m\u001b[0m\u001b[1;33m\u001b[0m\u001b[0m\n\u001b[1;32m---> 14\u001b[1;33m     \u001b[0massignments\u001b[0m \u001b[1;33m=\u001b[0m \u001b[0mlinear_deterministic_greedy\u001b[0m\u001b[1;33m(\u001b[0m\u001b[0me\u001b[0m\u001b[1;33m,\u001b[0m \u001b[0mnum_nodes\u001b[0m\u001b[1;33m,\u001b[0m \u001b[1;36m4\u001b[0m\u001b[1;33m,\u001b[0m \u001b[0massignments\u001b[0m\u001b[1;33m)\u001b[0m\u001b[1;33m\u001b[0m\u001b[0m\n\u001b[0m\u001b[0;32m     15\u001b[0m     \u001b[0mprint\u001b[0m\u001b[1;33m(\u001b[0m\u001b[1;34m\"Node: {} -> assignment: {}\"\u001b[0m\u001b[1;33m.\u001b[0m\u001b[0mformat\u001b[0m\u001b[1;33m(\u001b[0m\u001b[0mnode\u001b[0m\u001b[1;33m,\u001b[0m \u001b[0massignments\u001b[0m\u001b[1;33m[\u001b[0m\u001b[0mnode\u001b[0m\u001b[1;33m]\u001b[0m\u001b[1;33m)\u001b[0m\u001b[1;33m)\u001b[0m\u001b[1;33m\u001b[0m\u001b[0m\n\u001b[0;32m     16\u001b[0m \u001b[1;33m\u001b[0m\u001b[0m\n",
      "\u001b[1;32m_cython_magic_f955302a72246508b929181c64011243.pyx\u001b[0m in \u001b[0;36m_cython_magic_f955302a72246508b929181c64011243.linear_deterministic_greedy (/home/sami/.cache/ipython/cython/_cython_magic_f955302a72246508b929181c64011243.c:2380)\u001b[1;34m()\u001b[0m\n",
      "\u001b[1;31mIndexError\u001b[0m: Out of bounds on buffer access (axis 0)"
     ]
    }
   ],
   "source": [
    "# Use the greedy method to break into 4 partitions\n",
    "#%time run_restreaming_greedy(edges, num_nodes, num_partitions=4, num_iterations=15)\n",
    "\n",
    "print(\"EDGES: len({})\".format(len(edges),type(edges)))\n",
    "\n",
    "assignments = None\n",
    "for node in range(1, 20):\n",
    "    e, num_nodes = run_restreaming_greedy_stepped(edges, node)\n",
    "    print(num)\n",
    "    print(len(e))\n",
    "    #print(e)\n",
    "    # XXX: num_nodes is the wrong value here, it should be num_edges,\n",
    "    # however we are dealing with an undirected graph so we can't simply len(e)\n",
    "    assignments = linear_deterministic_greedy(e, num_nodes, 4, assignments)\n",
    "    print(\"Node: {} -> assignment: {}\".format(node, assignments[node]))\n",
    "    \n",
    "    #print(\"e: len({})\".format(len(e),type(e)))\n",
    "\n",
    "\n",
    "with open(\"assignments.txt\", \"w\") as f:\n",
    "    j = 0\n",
    "    for a in assignments:\n",
    "        f.write(\"{} {}\\n\".format(j,a))\n",
    "        j += 1\n",
    "\n",
    "print(assignments)\n"
   ]
  },
  {
   "cell_type": "code",
   "execution_count": 7,
   "metadata": {
    "collapsed": false
   },
   "outputs": [
    {
     "name": "stdout",
     "output_type": "stream",
     "text": [
      "\n",
      "40 PARTITIONS\n",
      "ROUND\tWASTE\tSCORE\tCUT\n",
      "0\t0.367\t0.680\t119966\n",
      "1\t0.367\t0.633\t111624\n",
      "2\t0.367\t0.590\t104156\n",
      "3\t0.367\t0.583\t102876\n",
      "4\t0.367\t0.599\t105668\n",
      "5\t0.367\t0.552\t97490\n",
      "6\t0.367\t0.554\t97768\n",
      "7\t0.367\t0.553\t97612\n",
      "8\t0.367\t0.540\t95268\n",
      "9\t0.367\t0.539\t95030\n",
      "10\t0.367\t0.541\t95398\n",
      "11\t0.367\t0.531\t93636\n",
      "12\t0.367\t0.536\t94672\n",
      "13\t0.367\t0.552\t97484\n",
      "14\t0.367\t0.529\t93306\n",
      "CPU times: user 183 ms, sys: 3.82 ms, total: 186 ms\n",
      "Wall time: 185 ms\n"
     ]
    },
    {
     "data": {
      "image/png": "[encoded data removed]",
      "text/plain": [
       "<matplotlib.figure.Figure at 0x7f4dd42f4908>"
      ]
     },
     "metadata": {},
     "output_type": "display_data"
    }
   ],
   "source": [
    "# Use the greedy method to break into 20 partitions\n",
    "%time run_restreaming_greedy(edges, num_nodes, num_partitions=40, num_iterations=15)"
   ]
  },
  {
   "cell_type": "code",
   "execution_count": null,
   "metadata": {
    "collapsed": true
   },
   "outputs": [],
   "source": []
  }
 ],
 "metadata": {
  "celltoolbar": "Raw Cell Format",
  "kernelspec": {
   "display_name": "Python 3",
   "language": "python",
   "name": "python3"
  },
  "language_info": {
   "codemirror_mode": {
    "name": "ipython",
    "version": 3
   },
   "file_extension": ".py",
   "mimetype": "text/x-python",
   "name": "python",
   "nbconvert_exporter": "python",
   "pygments_lexer": "ipython3",
   "version": "3.4.3"
  }
 },
 "nbformat": 4,
 "nbformat_minor": 0
}
