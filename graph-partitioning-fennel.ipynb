{
 "cells": [
  {
   "cell_type": "code",
   "execution_count": 1,
   "metadata": {
    "collapsed": false
   },
   "outputs": [
    {
     "name": "stdout",
     "output_type": "stream",
     "text": [
      "Loading graph data...\n",
      "Nodes: 77\n",
      "Edges: 508\n"
     ]
    }
   ],
   "source": [
    "import networkx as nx\n",
    "\n",
    "DATA_FILENAME = '/home/sami/py-graph/data/lesmis.gml'\n",
    "\n",
    "print(\"Loading graph data...\")\n",
    "U = nx.read_gml(DATA_FILENAME, label='id')\n",
    "G = U.to_directed()\n",
    "\n",
    "print(\"Nodes: {}\".format(G.number_of_nodes()))\n",
    "print(\"Edges: {}\".format(G.number_of_edges()))"
   ]
  },
  {
   "cell_type": "code",
   "execution_count": 2,
   "metadata": {
    "collapsed": false
   },
   "outputs": [
    {
     "name": "stdout",
     "output_type": "stream",
     "text": [
      "Populating the interactive namespace from numpy and matplotlib\n"
     ]
    }
   ],
   "source": [
    "%load_ext Cython\n",
    "%pylab inline"
   ]
  },
  {
   "cell_type": "code",
   "execution_count": 3,
   "metadata": {
    "collapsed": false
   },
   "outputs": [],
   "source": [
    "%%cython\n",
    "import numpy as np\n",
    "from shared import fixed_width_print\n",
    "\n",
    "cdef int UNMAPPED = -1\n",
    "\n",
    "def fennel(int[:,::] edges,\n",
    "           int num_nodes,\n",
    "           int num_partitions,\n",
    "           int[::] partition,\n",
    "           float alpha):\n",
    "    \"\"\"\n",
    "    This algorithm favors a cluster if it has many neighbors of a node, but\n",
    "    penalizes the cluster if it is close to capacity.\n",
    "    \n",
    "    partition: A previous partition of the nodes. Set to -1's if a node has not been assigned.\n",
    "    \"\"\"\n",
    "    \n",
    "    cdef int[::] partition_sizes = None\n",
    "    # The output partition\n",
    "    if partition is None:\n",
    "        partition = np.repeat(np.int32(UNMAPPED), num_nodes)\n",
    "        partition_sizes = np.zeros(num_partitions, dtype=np.int32)\n",
    "    else:\n",
    "        partition_sizes = np.bincount(partition).astype(np.int32)\n",
    "    \n",
    "    cdef int[::] partition_votes = np.zeros(num_partitions, dtype=np.int32)\n",
    "    \n",
    "    cdef float partition_capacity = num_nodes / num_partitions\n",
    "    \n",
    "    cdef int last_left = edges[0,0]\n",
    "    cdef int i = 0\n",
    "    cdef int left = 0\n",
    "    cdef int right = 0\n",
    "    cdef int arg = 0\n",
    "    cdef int max_arg = 0\n",
    "    cdef float max_val = 0\n",
    "    cdef float val = 0\n",
    "    cdef int len_edges = len(edges)\n",
    "    cdef int previous_assignment = 0\n",
    "\n",
    "    debug = False\n",
    "\n",
    "    for i in range(len_edges):\n",
    "        left = edges[i,0]\n",
    "        right = edges[i,1]\n",
    "    \n",
    "        if last_left != left:\n",
    "            # New left node, so we have to assign last left\n",
    "\n",
    "            if debug:\n",
    "                print(\"Assigning node {}\".format(last_left))\n",
    "\n",
    "            # Remember placement of last_left in the previous assignment\n",
    "            previous_assignment = partition[last_left]\n",
    "            \n",
    "            max_arg = 0\n",
    "            max_val = partition_votes[0] - alpha * partition_sizes[0]\n",
    "            if debug:\n",
    "                print(\"\\tP{} = {} - {} x {} = {}\".format(0,\n",
    "                                                         partition_votes[0],\n",
    "                                                         alpha,\n",
    "                                                         partition_sizes[0],\n",
    "                                                         max_val))\n",
    "            if previous_assignment == 0:\n",
    "                # We remove the node from its current partition before\n",
    "                # deciding to re-add it, so subtract alpha to give\n",
    "                # result of 1 lower partition size.\n",
    "                max_val += alpha\n",
    "\n",
    "            for arg in range(1, num_partitions):\n",
    "                val = partition_votes[arg] - alpha * partition_sizes[arg]\n",
    "\n",
    "                if debug:\n",
    "                    print(\"\\tP{} = {} - {} x {} = {}\".format(arg,\n",
    "                                                             partition_votes[arg],\n",
    "                                                             alpha,\n",
    "                                                             partition_sizes[arg],\n",
    "                                                             val))\n",
    "                if previous_assignment == arg:\n",
    "                    # See comment above\n",
    "                    val += alpha\n",
    "                if val > max_val:\n",
    "                    max_arg = arg\n",
    "                    max_val = val\n",
    "\n",
    "            if max_arg != previous_assignment:\n",
    "                partition[last_left] = max_arg\n",
    "                partition_sizes[max_arg] += 1\n",
    "                if previous_assignment != UNMAPPED:\n",
    "                    partition_sizes[previous_assignment] -= 1\n",
    "\n",
    "            partition_votes[:] = 0\n",
    "            last_left = left\n",
    "\n",
    "            if debug:\n",
    "                fixed_width_print(np.asarray(partition))\n",
    "\n",
    "        if partition[right] != -1:\n",
    "            partition_votes[partition[right]] += 1\n",
    "    \n",
    "    # TODO: finish off this fencepost....\n",
    "    partition[left] = 0\n",
    "    \n",
    "    return np.asarray(partition)"
   ]
  },
  {
   "cell_type": "code",
   "execution_count": 4,
   "metadata": {
    "collapsed": true
   },
   "outputs": [],
   "source": [
    "def draw_figures(waste_values, edge_score_values, num_partitions):\n",
    "    fig, axes = plt.subplots(nrows=1, ncols=2)\n",
    "    \n",
    "    (waste_axes, score_axes) = axes\n",
    "    waste_axes.plot(waste_values, 'r')\n",
    "    waste_axes.set_xlabel('Round')\n",
    "    waste_axes.set_ylabel('Number of wasted bins')\n",
    "    waste_axes.set_ylim(bottom=0)\n",
    "    waste_axes.set_title('Wasted Bins: {} partitions'.format(num_partitions))\n",
    "    \n",
    "    score_axes.plot(edge_score_values, 'r')\n",
    "    score_axes.set_xlabel('Round')\n",
    "    score_axes.set_ylabel('Ratio of edges crossing partitions')\n",
    "    score_axes.set_ylim(bottom=0)\n",
    "    score_axes.set_title('Score: {} partitions'.format(num_partitions))\n",
    "    \n",
    "    fig.tight_layout()"
   ]
  },
  {
   "cell_type": "code",
   "execution_count": 5,
   "metadata": {
    "collapsed": true
   },
   "outputs": [],
   "source": [
    "from shared import score\n",
    "\n",
    "def run_fennel_restreaming(edges, num_nodes, num_partitions, num_iterations):\n",
    "    print('{} PARTITIONS'.format(num_partitions))\n",
    "    assignments = None\n",
    "    # We will explore this parameter in a future post. This is sub-optimal\n",
    "    alphas = np.linspace(1.251608191745264e-07, 7.588951557309824e-05, num_iterations)\n",
    "    waste_scores, edge_score_values = [], []\n",
    "    print('ROUND\\tALPHA\\tWASTE\\tSCORE\\tCUT')\n",
    "    for i in range(num_iterations):\n",
    "        alpha = alphas[i]\n",
    "        assignments = fennel(edges, num_nodes, num_partitions, assignments, alpha)\n",
    "        (waste, edge_score, cut) = score(assignments, edges)\n",
    "        print('{}\\t{:.1e}\\t{:0.3f}\\t{:0.3f}\\t{}'.format(i, alpha, waste, edge_score, cut))\n",
    "        waste_scores.append(waste)\n",
    "        edge_score_values.append(edge_score)\n",
    "    draw_figures(waste_scores, edge_score_values, num_partitions)"
   ]
  },
  {
   "cell_type": "code",
   "execution_count": 6,
   "metadata": {
    "collapsed": false
   },
   "outputs": [
    {
     "name": "stdout",
     "output_type": "stream",
     "text": [
      "4 PARTITIONS\n",
      "ROUND\tALPHA\tWASTE\tSCORE\tCUT\n",
      "0\t1.3e-07\t1.494\t0.173\t88\n",
      "1\t5.5e-06\t1.909\t0.091\t46\n",
      "2\t1.1e-05\t1.961\t0.087\t44\n",
      "3\t1.6e-05\t1.961\t0.087\t44\n",
      "4\t2.2e-05\t1.961\t0.087\t44\n",
      "5\t2.7e-05\t1.961\t0.087\t44\n",
      "6\t3.3e-05\t1.961\t0.087\t44\n",
      "7\t3.8e-05\t1.961\t0.087\t44\n",
      "8\t4.3e-05\t1.961\t0.087\t44\n",
      "9\t4.9e-05\t1.961\t0.087\t44\n",
      "10\t5.4e-05\t1.961\t0.087\t44\n",
      "11\t6.0e-05\t1.961\t0.087\t44\n",
      "12\t6.5e-05\t1.961\t0.087\t44\n",
      "13\t7.0e-05\t1.961\t0.087\t44\n",
      "14\t7.6e-05\t1.961\t0.087\t44\n"
     ]
    },
    {
     "data": {
      "image/png": "[encoded data removed]",
      "text/plain": [
       "<matplotlib.figure.Figure at 0x7f9aae32bc50>"
      ]
     },
     "metadata": {},
     "output_type": "display_data"
    }
   ],
   "source": [
    "edges = np.array(G.edges(), dtype=np.int32)\n",
    "node_weights = np.array([x[1]['weight'] for x in G.nodes(data=True)], dtype=np.float32)\n",
    "num_nodes = len(node_weights)\n",
    "\n",
    "run_fennel_restreaming(edges, num_nodes, 4, 15)"
   ]
  },
  {
   "cell_type": "code",
   "execution_count": 7,
   "metadata": {
    "collapsed": false
   },
   "outputs": [
    {
     "name": "stdout",
     "output_type": "stream",
     "text": [
      "20 PARTITIONS\n",
      "ROUND\tALPHA\tWASTE\tSCORE\tCUT\n",
      "0\t1.3e-07\t1.494\t0.173\t88\n"
     ]
    },
    {
     "ename": "IndexError",
     "evalue": "Out of bounds on buffer access (axis 0)",
     "output_type": "error",
     "traceback": [
      "\u001b[1;31m---------------------------------------------------------------------------\u001b[0m",
      "\u001b[1;31mIndexError\u001b[0m                                Traceback (most recent call last)",
      "\u001b[1;32m<ipython-input-7-d168a4985f26>\u001b[0m in \u001b[0;36m<module>\u001b[1;34m()\u001b[0m\n\u001b[1;32m----> 1\u001b[1;33m \u001b[0mrun_fennel_restreaming\u001b[0m\u001b[1;33m(\u001b[0m\u001b[0medges\u001b[0m\u001b[1;33m,\u001b[0m \u001b[0mnum_nodes\u001b[0m\u001b[1;33m,\u001b[0m \u001b[1;36m20\u001b[0m\u001b[1;33m,\u001b[0m \u001b[1;36m15\u001b[0m\u001b[1;33m)\u001b[0m\u001b[1;33m\u001b[0m\u001b[0m\n\u001b[0m",
      "\u001b[1;32m<ipython-input-5-ed4798e33a85>\u001b[0m in \u001b[0;36mrun_fennel_restreaming\u001b[1;34m(edges, num_nodes, num_partitions, num_iterations)\u001b[0m\n\u001b[0;32m     10\u001b[0m     \u001b[1;32mfor\u001b[0m \u001b[0mi\u001b[0m \u001b[1;32min\u001b[0m \u001b[0mrange\u001b[0m\u001b[1;33m(\u001b[0m\u001b[0mnum_iterations\u001b[0m\u001b[1;33m)\u001b[0m\u001b[1;33m:\u001b[0m\u001b[1;33m\u001b[0m\u001b[0m\n\u001b[0;32m     11\u001b[0m         \u001b[0malpha\u001b[0m \u001b[1;33m=\u001b[0m \u001b[0malphas\u001b[0m\u001b[1;33m[\u001b[0m\u001b[0mi\u001b[0m\u001b[1;33m]\u001b[0m\u001b[1;33m\u001b[0m\u001b[0m\n\u001b[1;32m---> 12\u001b[1;33m         \u001b[0massignments\u001b[0m \u001b[1;33m=\u001b[0m \u001b[0mfennel\u001b[0m\u001b[1;33m(\u001b[0m\u001b[0medges\u001b[0m\u001b[1;33m,\u001b[0m \u001b[0mnum_nodes\u001b[0m\u001b[1;33m,\u001b[0m \u001b[0mnum_partitions\u001b[0m\u001b[1;33m,\u001b[0m \u001b[0massignments\u001b[0m\u001b[1;33m,\u001b[0m \u001b[0malpha\u001b[0m\u001b[1;33m)\u001b[0m\u001b[1;33m\u001b[0m\u001b[0m\n\u001b[0m\u001b[0;32m     13\u001b[0m         \u001b[1;33m(\u001b[0m\u001b[0mwaste\u001b[0m\u001b[1;33m,\u001b[0m \u001b[0medge_score\u001b[0m\u001b[1;33m,\u001b[0m \u001b[0mcut\u001b[0m\u001b[1;33m)\u001b[0m \u001b[1;33m=\u001b[0m \u001b[0mscore\u001b[0m\u001b[1;33m(\u001b[0m\u001b[0massignments\u001b[0m\u001b[1;33m,\u001b[0m \u001b[0medges\u001b[0m\u001b[1;33m)\u001b[0m\u001b[1;33m\u001b[0m\u001b[0m\n\u001b[0;32m     14\u001b[0m         \u001b[0mprint\u001b[0m\u001b[1;33m(\u001b[0m\u001b[1;34m'{}\\t{:.1e}\\t{:0.3f}\\t{:0.3f}\\t{}'\u001b[0m\u001b[1;33m.\u001b[0m\u001b[0mformat\u001b[0m\u001b[1;33m(\u001b[0m\u001b[0mi\u001b[0m\u001b[1;33m,\u001b[0m \u001b[0malpha\u001b[0m\u001b[1;33m,\u001b[0m \u001b[0mwaste\u001b[0m\u001b[1;33m,\u001b[0m \u001b[0medge_score\u001b[0m\u001b[1;33m,\u001b[0m \u001b[0mcut\u001b[0m\u001b[1;33m)\u001b[0m\u001b[1;33m)\u001b[0m\u001b[1;33m\u001b[0m\u001b[0m\n",
      "\u001b[1;32m_cython_magic_22af5759e4f2afaf7bee6731e2a078ce.pyx\u001b[0m in \u001b[0;36m_cython_magic_22af5759e4f2afaf7bee6731e2a078ce.fennel (/home/sami/.cache/ipython/cython/_cython_magic_22af5759e4f2afaf7bee6731e2a078ce.c:2341)\u001b[1;34m()\u001b[0m\n",
      "\u001b[1;31mIndexError\u001b[0m: Out of bounds on buffer access (axis 0)"
     ]
    }
   ],
   "source": [
    "run_fennel_restreaming(edges, num_nodes, 20, 15)"
   ]
  },
  {
   "cell_type": "code",
   "execution_count": null,
   "metadata": {
    "collapsed": true
   },
   "outputs": [],
   "source": []
  }
 ],
 "metadata": {
  "kernelspec": {
   "display_name": "Python 3",
   "language": "python",
   "name": "python3"
  },
  "language_info": {
   "codemirror_mode": {
    "name": "ipython",
    "version": 3
   },
   "file_extension": ".py",
   "mimetype": "text/x-python",
   "name": "python",
   "nbconvert_exporter": "python",
   "pygments_lexer": "ipython3",
   "version": "3.4.3"
  }
 },
 "nbformat": 4,
 "nbformat_minor": 0
}
