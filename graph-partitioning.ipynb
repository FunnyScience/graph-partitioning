{
 "cells": [
  {
   "cell_type": "code",
   "execution_count": 1,
   "metadata": {
    "collapsed": false
   },
   "outputs": [],
   "source": [
    "# Constants for you to change\n",
    "import os\n",
    "\n",
    "DATA_DIRECTORY = '/home/sami/py-graph'\n",
    "LIVEJOURNAL_FILENAME = os.path.join(DATA_DIRECTORY, 'facebook_combined.txt.gz')\n",
    "LIVEJOURNAL_URL = 'http://snap.stanford.edu/data/soc-LiveJournal1.txt.gz'"
   ]
  },
  {
   "cell_type": "code",
   "execution_count": 2,
   "metadata": {
    "collapsed": false,
    "scrolled": true
   },
   "outputs": [
    {
     "name": "stdout",
     "output_type": "stream",
     "text": [
      "\n",
      "FILE STATS:\n",
      "-rw-r--r-- 1 sami sami 214K Dec 18 18:38 /home/sami/py-graph/facebook_combined.txt.gz\n",
      "\n",
      "STARTING LINES\n",
      "0 1\n",
      "0 2\n",
      "0 3\n",
      "0 4\n",
      "0 5\n",
      "0 6\n",
      "0 7\n",
      "0 8\n",
      "0 9\n",
      "0 10\n",
      "0 11\n",
      "0 12\n",
      "0 13\n",
      "0 14\n",
      "0 15\n",
      "0 16\n",
      "0 17\n",
      "0 18\n",
      "0 19\n",
      "0 20\n",
      "0 21\n",
      "0 22\n",
      "0 23\n",
      "0 24\n",
      "0 25\n",
      "0 26\n",
      "0 27\n",
      "0 28\n",
      "0 29\n",
      "0 30\n",
      "\n",
      "gzip: stdout: Broken pipe\n"
     ]
    }
   ],
   "source": [
    "# Downloading the file\n",
    "\n",
    "#import urllib.request\n",
    "\n",
    "assert os.path.exists(DATA_DIRECTORY)\n",
    "\n",
    "# Get your data. This file is ~250M so it will take a bit\n",
    "#print('DOWNLOADING 250M FILE. WILL SAVE FOR FUTURE USE')\n",
    "#if not os.path.exists(LIVEJOURNAL_FILENAME):\n",
    "#    urllib.request.urlretrieve(LIVEJOURNAL_URL, LIVEJOURNAL_FILENAME)\n",
    "\n",
    "# Show a little bit of the file\n",
    "print('\\nFILE STATS:')\n",
    "!ls -lh $LIVEJOURNAL_FILENAME\n",
    "print('\\nSTARTING LINES')\n",
    "!zcat $LIVEJOURNAL_FILENAME | head -n 30"
   ]
  },
  {
   "cell_type": "code",
   "execution_count": 3,
   "metadata": {
    "collapsed": false
   },
   "outputs": [],
   "source": [
    "# Cleaning the data\n",
    "\n",
    "import numpy as np\n",
    "import gzip\n",
    "\n",
    "def row_generator():\n",
    "    \"\"\"This will generate all the edges in the graph.\"\"\"\n",
    "    edges = []\n",
    "    with gzip.open(LIVEJOURNAL_FILENAME, 'rt') as f:\n",
    "        for line in f:\n",
    "            if line.startswith('#'):\n",
    "                continue\n",
    "            else:\n",
    "                (left_node, right_node) = line[:-1].split()\n",
    "                edges.append((int(left_node), int(right_node)))\n",
    "    num_edges = len(edges)\n",
    "    num_nodes = max([x[0] for x in edges] + [x[1] for x in edges]) + 1\n",
    "    return edges, num_edges, num_nodes\n",
    "\n",
    "def to_undirected(edge_iterable, num_edges, num_nodes, shuffle=True):\n",
    "    \"\"\"Takes an iterable of edges and produces the list of edges for the undirected graph.\n",
    "    \n",
    "    > to_undirected([[0,1],[1,2],[2,10]], 3, 11)\n",
    "    array([[ 0,  1],\n",
    "       [ 1,  0],\n",
    "       [ 1,  2],\n",
    "       [ 2,  1],\n",
    "       [ 2, 10],\n",
    "       [10,  2]])\n",
    "    \"\"\"\n",
    "    # need int64 to do gross bithacks\n",
    "    as_array = np.zeros((num_edges, 2), dtype=np.int64)\n",
    "    for (i, (n_0, n_1)) in enumerate(edge_iterable):\n",
    "            as_array[i,0] = n_0\n",
    "            as_array[i,1] = n_1\n",
    "    # The graph is directed, but we want to make it undirected,\n",
    "    # which means we will duplicate some rows.\n",
    "\n",
    "    left_nodes = as_array[:,0]\n",
    "    right_nodes = as_array[:,1]\n",
    "    \n",
    "    if shuffle:\n",
    "        the_shuffle = np.arange(num_nodes)\n",
    "        np.random.shuffle(the_shuffle)\n",
    "        left_nodes = the_shuffle.take(left_nodes)\n",
    "        right_nodes = the_shuffle.take(right_nodes)\n",
    "\n",
    "    \n",
    "    # numpy.unique will not unique whole rows, so this little bit-hacking\n",
    "    # is a quick way to get unique rows after making a flipped copy of\n",
    "    # each edge.\n",
    "    max_bits = int(np.ceil(np.log2(num_nodes + 1)))\n",
    "    \n",
    "    encoded_edges_forward = np.left_shift(left_nodes, max_bits) | right_nodes\n",
    "    \n",
    "    # Flip the columns and do it again:\n",
    "    encoded_edges_reverse = np.left_shift(right_nodes, max_bits) | left_nodes\n",
    "\n",
    "    unique_encoded_edges = np.unique(np.hstack((encoded_edges_forward, encoded_edges_reverse)))\n",
    "    \n",
    "    left_node_decoded = np.right_shift(unique_encoded_edges, max_bits)\n",
    "    \n",
    "    # Mask out the high order bits\n",
    "    right_node_decoded = (2 ** (max_bits) - 1) & unique_encoded_edges\n",
    "    \n",
    "    undirected_edges = np.vstack((left_node_decoded, right_node_decoded)).T.astype(np.int32)\n",
    "\n",
    "    # ascontiguousarray so that it's c-contiguous for cython code below\n",
    "    return np.ascontiguousarray(undirected_edges)\n",
    "\n",
    "\n",
    "def get_clean_data(shuffle=True):\n",
    "    if shuffle:\n",
    "        name = os.path.join(DATA_DIRECTORY, 'LJ-cleaned-shuffled.npy')\n",
    "    else:\n",
    "        name = os.path.join(DATA_DIRECTORY, 'LJ-cleaned.npy')\n",
    "\n",
    "    if False and os.path.exists(name):\n",
    "        print('Loading from file {}'.format(name))\n",
    "        return np.load(name)\n",
    "    else:\n",
    "        print('Parsing from zip. Will write to file {}'.format(name), flush=True)\n",
    "        # Lets get the edges into one big array\n",
    "        edges, num_edges, num_nodes = row_generator()\n",
    "        edges = to_undirected(edges, num_edges, num_nodes, shuffle=shuffle)\n",
    "        print('ORIGINAL DIST: {} MIN: {} MAX: {}'.format(np.abs(edges[:,0] - edges[:,1]).mean(), edges.min(), edges.max()))\n",
    "        np.save(name, edges)\n",
    "        return edges, num_edges, num_nodes"
   ]
  },
  {
   "cell_type": "code",
   "execution_count": 4,
   "metadata": {
    "collapsed": false
   },
   "outputs": [
    {
     "name": "stdout",
     "output_type": "stream",
     "text": [
      "Normalizing data (or loaded pre-computed)\n",
      "Parsing from zip. Will write to file /home/sami/py-graph/LJ-cleaned-shuffled.npy\n",
      "ORIGINAL DIST: 1324.3861889974387 MIN: 0 MAX: 4038\n",
      "CPU times: user 183 ms, sys: 11.7 ms, total: 194 ms\n",
      "Wall time: 194 ms\n",
      "Parsing from zip. Will write to file /home/sami/py-graph/LJ-cleaned.npy\n",
      "ORIGINAL DIST: 289.4173561212231 MIN: 0 MAX: 4038\n",
      "CPU times: user 157 ms, sys: 7.98 ms, total: 165 ms\n",
      "Wall time: 165 ms\n",
      "\n",
      "EDGES SHAPE: (176468, 2)\n"
     ]
    }
   ],
   "source": [
    "print(\"Normalizing data (or loaded pre-computed)\")\n",
    "%time edges, num_edges, num_nodes = get_clean_data(shuffle=True)\n",
    "%time unshuffled_edges, unshuffled_num_edges, unshuffled_num_nodes = get_clean_data(shuffle=False)\n",
    "print('\\nEDGES SHAPE: {}'.format(edges.shape))"
   ]
  },
  {
   "cell_type": "code",
   "execution_count": 5,
   "metadata": {
    "collapsed": false
   },
   "outputs": [],
   "source": [
    "def score(assignment, edges):\n",
    "    \"\"\"Compute the score given an assignment of vertices.\n",
    "    \n",
    "    N nodes are assigned to clusters 0 to K-1.\n",
    "    \n",
    "    assignment: Vector where N[i] is the cluster node i is assigned to.\n",
    "    edges: The edges in the graph, assumed to have one in each direction\n",
    "    \n",
    "    Returns: (total wasted bin space, ratio of edges cut)\n",
    "    \"\"\"\n",
    "    balance = np.bincount(assignment) / len(assignment)\n",
    "    waste = (np.max(balance) - balance).sum()\n",
    "    \n",
    "    left_edge_assignment = assignment.take(edges[:,0])\n",
    "    right_edge_assignment = assignment.take(edges[:,1])\n",
    "    mismatch = (left_edge_assignment != right_edge_assignment).sum()\n",
    "    cut_ratio = mismatch / len(edges)\n",
    "    \n",
    "    return (waste, cut_ratio, mismatch)"
   ]
  },
  {
   "cell_type": "code",
   "execution_count": 6,
   "metadata": {
    "collapsed": false
   },
   "outputs": [
    {
     "name": "stdout",
     "output_type": "stream",
     "text": [
      "Populating the interactive namespace from numpy and matplotlib\n"
     ]
    }
   ],
   "source": [
    "%load_ext Cython\n",
    "%pylab inline"
   ]
  },
  {
   "cell_type": "code",
   "execution_count": 7,
   "metadata": {
    "collapsed": false
   },
   "outputs": [],
   "source": [
    "%%cython\n",
    "import numpy as np\n",
    "cimport cython\n",
    "\n",
    "cdef int UNMAPPED = -1\n",
    "\n",
    "def linear_deterministic_greedy(int[:,::] edges,\n",
    "                                int num_nodes,\n",
    "                                int num_partitions,\n",
    "                                int[::] partition):\n",
    "    \"\"\"\n",
    "    This algorithm favors a cluster if it has many neighbors of a node, but\n",
    "    penalizes the cluster if it is close to capacity.\n",
    "    \n",
    "    edges: An [:,2] array of edges.\n",
    "    num_nodes: The number of nodes in the graph.\n",
    "    num_partitions: How many partitions we are breaking the graph into.\n",
    "    partition: The partition from a previous run. Used for restreaming.\n",
    "\n",
    "    Returns: A new partition.\n",
    "    \"\"\"\n",
    "    # The output partition\n",
    "\n",
    "    if partition is None:\n",
    "        partition = np.repeat(np.int32(UNMAPPED), num_nodes)\n",
    "\n",
    "    cdef int[::] partition_sizes = np.zeros(num_partitions, dtype=np.int32)\n",
    "         \n",
    "    cdef int[::] partition_votes = np.zeros(num_partitions, dtype=np.int32)\n",
    "    \n",
    "    # Fine to be a little off, to stay integers\n",
    "    cdef int partition_capacity = num_nodes / num_partitions\n",
    "    \n",
    "    cdef int last_left = edges[0,0]\n",
    "    cdef int i = 0\n",
    "    cdef int left = 0\n",
    "    cdef int right = 0\n",
    "    cdef int arg = 0\n",
    "    cdef int max_arg = 0\n",
    "    cdef int max_val = 0\n",
    "    cdef int val = 0\n",
    "    cdef int len_edges = len(edges)\n",
    "    \n",
    "    import time\n",
    "    \n",
    "    #print (\"EDGES:{}\".format(len_edges))\n",
    "    \n",
    "    for i in range(len_edges):\n",
    "        left = edges[i,0]\n",
    "        right = edges[i,1]\n",
    "    \n",
    "        if last_left != left:\n",
    "            # We have found a new node so assign last_left to a partition\n",
    "            #print(\"Found a new node\")\n",
    "            #print(\"\\tleft: {}\".format(left))\n",
    "            #print(\"\\tright: {}\".format(right))\n",
    "                \n",
    "            max_arg = 0\n",
    "            max_val = (partition_votes[0]) * (\n",
    "                       partition_capacity - partition_sizes[0])\n",
    "\n",
    "            for arg in range(1, num_partitions):\n",
    "                val = (partition_votes[arg]) * (\n",
    "                       partition_capacity - partition_sizes[arg])\n",
    "                if val > max_val:\n",
    "                    max_arg = arg\n",
    "                    max_val = val\n",
    "\n",
    "            if max_val == 0:\n",
    "                max_arg = arg\n",
    "                # No neighbors (or multiple maxed out) so \"randomly\" select\n",
    "                # the smallest partition\n",
    "                for arg in range(i % num_partitions, num_partitions):\n",
    "                    if partition_sizes[arg] < partition_capacity:\n",
    "                        max_arg = arg\n",
    "                        max_val = 1\n",
    "                        break\n",
    "                if max_val == 0:\n",
    "                    for arg in range(0, i % num_partitions):\n",
    "                        if partition_sizes[arg] < partition_capacity:\n",
    "                            max_arg = arg\n",
    "                            break\n",
    "\n",
    "\n",
    "            partition_sizes[max_arg] += 1\n",
    "            partition[last_left] = max_arg\n",
    "            partition_votes[:] = 0\n",
    "            last_left = left\n",
    "            \n",
    "            #print(\"\\tpartition_sizes for {}: {}\".format(partition_sizes[max_arg], max_arg))\n",
    "            #print(\"\\tmax_arg: {}\".format(max_arg))\n",
    "            #print(\"\\tmax_val: {}\".format(max_val))\n",
    "\n",
    "            #time.sleep(1)\n",
    "            \n",
    "        if partition[right] != UNMAPPED:\n",
    "            partition_votes[partition[right]] += 1\n",
    "\n",
    "\n",
    "    # Clean up the last assignment\n",
    "    max_arg = 0\n",
    "    max_val = 0\n",
    "    for arg in range(0, num_partitions):\n",
    "        if partition_sizes[arg] < partition_capacity:\n",
    "            val = (partition_votes[arg]) * (\n",
    "                    1 - partition_sizes[arg] / partition_capacity)\n",
    "            if val > max_val:\n",
    "                max_arg = arg\n",
    "                max_val = val\n",
    "    partition[left] = max_arg\n",
    "\n",
    "    return np.asarray(partition)"
   ]
  },
  {
   "cell_type": "code",
   "execution_count": 8,
   "metadata": {
    "collapsed": false
   },
   "outputs": [],
   "source": [
    "def draw_figures(waste_values, edge_score_values, num_partitions):\n",
    "    fig, axes = plt.subplots(nrows=1, ncols=2)\n",
    "    \n",
    "    (waste_axes, score_axes) = axes\n",
    "    waste_axes.plot(waste_values, 'r')\n",
    "    waste_axes.set_xlabel('Round')\n",
    "    waste_axes.set_ylabel('Number of wasted bins')\n",
    "    waste_axes.set_ylim(bottom=0)\n",
    "    waste_axes.set_title('Wasted Bins: {} partitions'.format(num_partitions))\n",
    "    \n",
    "    score_axes.plot(edge_score_values, 'r')\n",
    "    score_axes.set_xlabel('Round')\n",
    "    score_axes.set_ylabel('Ratio of edges crossing partitions')\n",
    "    score_axes.set_ylim(bottom=0)\n",
    "    score_axes.set_title('Score: {} partitions'.format(num_partitions))\n",
    "    \n",
    "    fig.tight_layout()"
   ]
  },
  {
   "cell_type": "code",
   "execution_count": 9,
   "metadata": {
    "collapsed": false
   },
   "outputs": [],
   "source": [
    "def run_restreaming_greedy(edges, num_nodes, num_partitions=10, num_iterations=10):\n",
    "    print('\\n{} PARTITIONS'.format(num_partitions))\n",
    "    assignments = None\n",
    "    print('ROUND\\tWASTE\\tSCORE\\tCUT')\n",
    "    waste_values = []\n",
    "    edge_score_values = []\n",
    "    flipped_edges = numpy.flipud(edges).copy()\n",
    "\n",
    "    for i in range(num_iterations):\n",
    "        assignments = linear_deterministic_greedy(edges, num_nodes, num_partitions, assignments)\n",
    "        (waste, edge_score, edges_cut) = score(assignments, edges)\n",
    "        waste_values.append(waste)\n",
    "        edge_score_values.append(edge_score)\n",
    "        print('{}\\t{:0.3f}\\t{:0.3f}\\t{}'.format(i, waste, edge_score, edges_cut))\n",
    "    \n",
    "    with open(\"assignments.txt\", \"w\") as f:\n",
    "        j = 0\n",
    "        for a in assignments:\n",
    "            #print(\"\\t{} {}\".format(j,a))\n",
    "            f.write(\"{} {}\\n\".format(j,a))\n",
    "            j += 1\n",
    "    #print(repr(assignments))\n",
    "    draw_figures(waste_values, edge_score_values, num_partitions)"
   ]
  },
  {
   "cell_type": "code",
   "execution_count": 10,
   "metadata": {
    "collapsed": false
   },
   "outputs": [
    {
     "name": "stdout",
     "output_type": "stream",
     "text": [
      "\n",
      "4 PARTITIONS\n",
      "ROUND\tWASTE\tSCORE\tCUT\n",
      "0\t0.001\t0.183\t32332\n",
      "1\t0.001\t0.082\t14528\n",
      "2\t0.001\t0.073\t12830\n",
      "3\t0.001\t0.072\t12636\n",
      "4\t0.001\t0.073\t12866\n",
      "5\t0.001\t0.072\t12626\n",
      "6\t0.001\t0.074\t13008\n",
      "7\t0.001\t0.076\t13414\n",
      "8\t0.001\t0.075\t13174\n",
      "9\t0.001\t0.073\t12904\n",
      "10\t0.001\t0.072\t12754\n",
      "11\t0.001\t0.073\t12798\n",
      "12\t0.001\t0.073\t12796\n",
      "13\t0.001\t0.073\t12796\n",
      "14\t0.001\t0.073\t12796\n",
      "CPU times: user 133 ms, sys: 8.04 ms, total: 141 ms\n",
      "Wall time: 140 ms\n"
     ]
    },
    {
     "data": {
      "image/png": "[encoded data removed]",
      "text/plain": [
       "<matplotlib.figure.Figure at 0x7f98d6ae04a8>"
      ]
     },
     "metadata": {},
     "output_type": "display_data"
    }
   ],
   "source": [
    "# Use the greedy method to break into 4 partitions\n",
    "%time run_restreaming_greedy(edges, num_nodes, num_partitions=4, num_iterations=15)"
   ]
  },
  {
   "cell_type": "code",
   "execution_count": 11,
   "metadata": {
    "collapsed": false
   },
   "outputs": [
    {
     "name": "stdout",
     "output_type": "stream",
     "text": [
      "\n",
      "40 PARTITIONS\n",
      "ROUND\tWASTE\tSCORE\tCUT\n",
      "0\t0.367\t0.703\t124032\n",
      "1\t0.367\t0.560\t98888\n",
      "2\t0.367\t0.522\t92174\n",
      "3\t0.367\t0.506\t89238\n",
      "4\t0.367\t0.494\t87218\n",
      "5\t0.367\t0.477\t84258\n",
      "6\t0.367\t0.478\t84430\n",
      "7\t0.367\t0.473\t83556\n",
      "8\t0.367\t0.471\t83178\n",
      "9\t0.367\t0.473\t83460\n",
      "10\t0.367\t0.468\t82530\n",
      "11\t0.367\t0.467\t82432\n",
      "12\t0.367\t0.468\t82656\n",
      "13\t0.367\t0.467\t82376\n",
      "14\t0.367\t0.466\t82268\n",
      "CPU times: user 181 ms, sys: 40 µs, total: 181 ms\n",
      "Wall time: 180 ms\n"
     ]
    },
    {
     "data": {
      "image/png": "[encoded data removed]",
      "text/plain": [
       "<matplotlib.figure.Figure at 0x7f98d67fbef0>"
      ]
     },
     "metadata": {},
     "output_type": "display_data"
    }
   ],
   "source": [
    "# Use the greedy method to break into 20 partitions\n",
    "%time run_restreaming_greedy(edges, num_nodes, num_partitions=40, num_iterations=15)"
   ]
  },
  {
   "cell_type": "code",
   "execution_count": 12,
   "metadata": {
    "collapsed": false
   },
   "outputs": [],
   "source": [
    "%%cython\n",
    "import numpy as np\n",
    "\n",
    "cdef int UNMAPPED = -1\n",
    "\n",
    "def fennel(int[:,::] edges,\n",
    "           int num_nodes,\n",
    "           int num_partitions,\n",
    "           int[::] partition,\n",
    "           float alpha):\n",
    "    \"\"\"\n",
    "    This algorithm favors a cluster if it has many neighbors of a node, but\n",
    "    penalizes the cluster if it is close to capacity.\n",
    "    \n",
    "    partition: A previous partition of the nodes. Set to -1's if a node has not been assigned.\n",
    "    \"\"\"\n",
    "    \n",
    "    cdef int[::] partition_sizes = None\n",
    "    # The output partition\n",
    "    if partition is None:\n",
    "        partition = np.repeat(np.int32(UNMAPPED), num_nodes)\n",
    "        partition_sizes = np.zeros(num_partitions, dtype=np.int32)\n",
    "    else:\n",
    "        partition_sizes = np.bincount(partition).astype(np.int32)\n",
    "    \n",
    "    cdef int[::] partition_votes = np.zeros(num_partitions, dtype=np.int32)\n",
    "    \n",
    "    cdef float partition_capacity = num_nodes / num_partitions\n",
    "    \n",
    "    cdef int last_left = edges[0,0]\n",
    "    cdef int i = 0\n",
    "    cdef int left = 0\n",
    "    cdef int right = 0\n",
    "    cdef int arg = 0\n",
    "    cdef int max_arg = 0\n",
    "    cdef float max_val = 0\n",
    "    cdef float val = 0\n",
    "    cdef int len_edges = len(edges)\n",
    "    cdef int previous_assignment = 0\n",
    "\n",
    "    for i in range(len_edges):\n",
    "        left = edges[i,0]\n",
    "        right = edges[i,1]\n",
    "    \n",
    "        if last_left != left:\n",
    "            # New left node, so we have to assign last left\n",
    "\n",
    "            # Remember placement of last_left in the previous assignment\n",
    "            previous_assignment = partition[last_left]\n",
    "            \n",
    "            max_arg = 0\n",
    "            max_val = partition_votes[0] - alpha * partition_sizes[0]\n",
    "            if previous_assignment == 0:\n",
    "                # We remove the node from its current partition before\n",
    "                # deciding to re-add it, so subtract alpha to give\n",
    "                # result of 1 lower partition size.\n",
    "                max_val += alpha\n",
    "\n",
    "            for arg in range(1, num_partitions):\n",
    "                val = partition_votes[arg] - alpha * partition_sizes[arg]\n",
    "                if previous_assignment == arg:\n",
    "                    # See comment above\n",
    "                    val += alpha\n",
    "                if val > max_val:\n",
    "                    max_arg = arg\n",
    "                    max_val = val\n",
    "\n",
    "            if max_arg != previous_assignment:\n",
    "                partition[last_left] = max_arg\n",
    "                partition_sizes[max_arg] += 1\n",
    "                if previous_assignment != UNMAPPED:\n",
    "                    partition_sizes[previous_assignment] -= 1\n",
    "\n",
    "            partition_votes[:] = 0\n",
    "            last_left = left\n",
    "\n",
    "        if partition[right] != -1:\n",
    "            partition_votes[partition[right]] += 1\n",
    "    \n",
    "    # TODO: finish off this fencepost....\n",
    "    partition[left] = 0\n",
    "    \n",
    "    return np.asarray(partition)"
   ]
  },
  {
   "cell_type": "code",
   "execution_count": 13,
   "metadata": {
    "collapsed": false
   },
   "outputs": [],
   "source": [
    "def run_fennel_restreaming(edges, num_nodes, num_partitions, num_iterations):\n",
    "    print('{} PARTITIONS'.format(num_partitions))\n",
    "    assignments = None\n",
    "    # We will explore this parameter in a future post. This is sub-optimal\n",
    "    alphas = np.linspace(1.251608191745264e-07, 7.588951557309824e-05, num_iterations)\n",
    "    waste_scores, edge_score_values = [], []\n",
    "    print('ROUND\\tALPHA\\tWASTE\\tSCORE\\tCUT')\n",
    "    for i in range(num_iterations):\n",
    "        alpha = alphas[i]\n",
    "        assignments = fennel(edges, num_nodes, num_partitions, assignments, alpha)\n",
    "        (waste, edge_score, cut) = score(assignments, edges)\n",
    "        print('{}\\t{:.1e}\\t{:0.3f}\\t{:0.3f}\\t{}'.format(i, alpha, waste, edge_score, cut))\n",
    "        waste_scores.append(waste)\n",
    "        edge_score_values.append(edge_score)\n",
    "    draw_figures(waste_scores, edge_score_values, num_partitions)"
   ]
  },
  {
   "cell_type": "code",
   "execution_count": 14,
   "metadata": {
    "collapsed": false
   },
   "outputs": [
    {
     "name": "stdout",
     "output_type": "stream",
     "text": [
      "4 PARTITIONS\n",
      "ROUND\tALPHA\tWASTE\tSCORE\tCUT\n",
      "0\t1.3e-07\t0.063\t0.120\t21112\n",
      "1\t5.5e-06\t0.103\t0.076\t13486\n",
      "2\t1.1e-05\t0.141\t0.063\t11168\n",
      "3\t1.6e-05\t0.199\t0.054\t9478\n",
      "4\t2.2e-05\t0.212\t0.052\t9100\n",
      "5\t2.7e-05\t0.212\t0.052\t9100\n",
      "6\t3.3e-05\t0.212\t0.052\t9100\n",
      "7\t3.8e-05\t0.212\t0.052\t9100\n",
      "8\t4.3e-05\t0.212\t0.052\t9100\n",
      "9\t4.9e-05\t0.212\t0.052\t9100\n",
      "10\t5.4e-05\t0.212\t0.052\t9100\n",
      "11\t6.0e-05\t0.212\t0.052\t9100\n",
      "12\t6.5e-05\t0.212\t0.052\t9100\n",
      "13\t7.0e-05\t0.212\t0.052\t9100\n",
      "14\t7.6e-05\t0.212\t0.052\t9100\n",
      "CPU times: user 192 ms, sys: 0 ns, total: 192 ms\n",
      "Wall time: 190 ms\n"
     ]
    },
    {
     "data": {
      "image/png": "[encoded data removed]",
      "text/plain": [
       "<matplotlib.figure.Figure at 0x7f98d6782c18>"
      ]
     },
     "metadata": {},
     "output_type": "display_data"
    }
   ],
   "source": [
    "%time run_fennel_restreaming(edges, num_nodes, 4, 15)"
   ]
  },
  {
   "cell_type": "code",
   "execution_count": 15,
   "metadata": {
    "collapsed": false
   },
   "outputs": [
    {
     "name": "stdout",
     "output_type": "stream",
     "text": [
      "20 PARTITIONS\n",
      "ROUND\tALPHA\tWASTE\tSCORE\tCUT\n",
      "0\t1.3e-07\t0.956\t0.152\t26794\n",
      "1\t5.5e-06\t1.179\t0.092\t16320\n",
      "2\t1.1e-05\t1.233\t0.082\t14422\n",
      "3\t1.6e-05\t1.238\t0.076\t13402\n",
      "4\t2.2e-05\t1.451\t0.068\t12020\n",
      "5\t2.7e-05\t1.540\t0.064\t11256\n",
      "6\t3.3e-05\t1.540\t0.064\t11226\n",
      "7\t3.8e-05\t1.540\t0.064\t11226\n",
      "8\t4.3e-05\t1.540\t0.064\t11226\n",
      "9\t4.9e-05\t1.540\t0.064\t11226\n",
      "10\t5.4e-05\t1.540\t0.064\t11226\n",
      "11\t6.0e-05\t1.540\t0.064\t11226\n",
      "12\t6.5e-05\t1.540\t0.064\t11226\n",
      "13\t7.0e-05\t1.540\t0.064\t11226\n",
      "14\t7.6e-05\t1.540\t0.064\t11226\n",
      "CPU times: user 164 ms, sys: 3.78 ms, total: 168 ms\n",
      "Wall time: 167 ms\n"
     ]
    },
    {
     "data": {
      "image/png": "[encoded data removed]",
      "text/plain": [
       "<matplotlib.figure.Figure at 0x7f98d6718f60>"
      ]
     },
     "metadata": {},
     "output_type": "display_data"
    }
   ],
   "source": [
    "%time run_fennel_restreaming(edges, num_nodes, 20, 15)"
   ]
  },
  {
   "cell_type": "code",
   "execution_count": null,
   "metadata": {
    "collapsed": false
   },
   "outputs": [],
   "source": []
  }
 ],
 "metadata": {
  "kernelspec": {
   "display_name": "Python 3",
   "language": "python",
   "name": "python3"
  },
  "language_info": {
   "codemirror_mode": {
    "name": "ipython",
    "version": 3
   },
   "file_extension": ".py",
   "mimetype": "text/x-python",
   "name": "python",
   "nbconvert_exporter": "python",
   "pygments_lexer": "ipython3",
   "version": "3.4.3"
  }
 },
 "nbformat": 4,
 "nbformat_minor": 0
}
