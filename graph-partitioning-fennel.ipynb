{
 "cells": [
  {
   "cell_type": "code",
   "execution_count": 1,
   "metadata": {
    "collapsed": false
   },
   "outputs": [
    {
     "name": "stdout",
     "output_type": "stream",
     "text": [
      "Populating the interactive namespace from numpy and matplotlib\n"
     ]
    }
   ],
   "source": [
    "import os\n",
    "from graph_partitioning import GraphPartitioning\n",
    "\n",
    "pwd = %pwd\n",
    "\n",
    "config = {\n",
    "\n",
    "    \"DATA_FILENAME\": os.path.join(pwd, \"data\", \"oneshot_fennel_weights.txt\"),\n",
    "    \"OUTPUT_DIRECTORY\": os.path.join(pwd, \"output\"),\n",
    "\n",
    "    # set which algorithm is run for the PREDICTION MODEL\n",
    "    \"PREDICTION_MODEL_ALGORITHM\": \"SCOTCH\",\n",
    "    \n",
    "    # Read input file for prediction model, if not provided a prediction\n",
    "    # model is made using FENNEL\n",
    "    \"PREDICTION_MODEL\": \"\",\n",
    "\n",
    "    # File containing simulated arrivals. This is used in simulating nodes\n",
    "    # arriving at the shelter. Nodes represented by line number; value of\n",
    "    # 1 represents a node as arrived; value of 0 represents the node as not\n",
    "    # arrived or needing a shelter.\n",
    "    \"SIMULATED_ARRIVAL_FILE\": os.path.join(pwd, \"data\", \"simulated_arrival.txt\"),\n",
    "\n",
    "    # File containing the geographic location of each node.\n",
    "    \"POPULATION_LOCATION_FILE\": os.path.join(pwd, \"data\", \"population_location.csv\"),\n",
    "\n",
    "    # Number of shelters\n",
    "    \"num_partitions\": 4,\n",
    "\n",
    "    # The number of iterations when making prediction model\n",
    "    \"num_iterations\": 10,\n",
    "\n",
    "    # Percentage of prediction model to use before discarding\n",
    "    # When set to 0, prediction model is discarded, useful for one-shot\n",
    "    \"prediction_model_cut_off\": 0.10,\n",
    "\n",
    "    # Alpha value used in one-shot (when restream_batches set to 1)\n",
    "    \"one_shot_alpha\": 0.5,\n",
    "\n",
    "    # Number of arrivals to batch before recalculating alpha and restreaming.\n",
    "    # When set to 1, one-shot is used with alpha value from above\n",
    "    \"restream_batches\": 100,\n",
    "\n",
    "    # When the batch size is reached: if set to True, each node is assigned\n",
    "    # individually as first in first out. If set to False, the entire batch\n",
    "    # is processed and empty before working on the next batch.\n",
    "    \"sliding_window\": False,\n",
    "\n",
    "    # Create virtual nodes based on prediction model\n",
    "    \"use_virtual_nodes\": False,\n",
    "\n",
    "    # Virtual nodes: edge weight\n",
    "    \"virtual_edge_weight\": 1.0,\n",
    "\n",
    "\n",
    "    ####\n",
    "    # GRAPH MODIFICATION FUNCTIONS\n",
    "\n",
    "    # Also enables the edge calculation function.\n",
    "    \"graph_modification_functions\": True,\n",
    "\n",
    "    # If set, the node weight is set to 100 if the node arrives at the shelter,\n",
    "    # otherwise the node is removed from the graph.\n",
    "    \"alter_arrived_node_weight_to_100\": True,\n",
    "\n",
    "    # Uses generalized additive models from R to generate prediction of nodes not\n",
    "    # arrived. This sets the node weight on unarrived nodes the the prediction\n",
    "    # given by a GAM.\n",
    "    # Needs POPULATION_LOCATION_FILE to be set.\n",
    "    \"alter_node_weight_to_gam_prediction\": True,\n",
    "\n",
    "    # The value of 'k' used in the GAM will be the number of nodes arrived until\n",
    "    # it reaches this max value.\n",
    "    \"gam_k_value\": 100,\n",
    "\n",
    "    # Alter the edge weight for nodes that haven't arrived. This is a way to\n",
    "    # de-emphasise the prediction model for the unknown nodes.\n",
    "    \"prediction_model_emphasis\": 1.0,\n",
    "}\n",
    "\n",
    "gp = GraphPartitioning(config)\n",
    "\n",
    "# Optional: shuffle the order of nodes arriving\n",
    "# Arrival order should not be shuffled if using GAM to alter node weights\n",
    "#random.shuffle(gp.arrival_order)\n",
    "\n",
    "%pylab inline"
   ]
  },
  {
   "cell_type": "code",
   "execution_count": 1,
   "metadata": {
    "collapsed": false
   },
   "outputs": [
    {
     "name": "stdout",
     "output_type": "stream",
     "text": [
      "['CLibrary', 'LibScotch', 'POINTER', '__builtins__', '__cached__', '__doc__', '__file__', '__loader__', '__name__', '__package__', '__spec__', 'c_char_p', 'c_double', 'c_int', 'c_void_p', 'cast', 'scotchio', 'typeutils']\n"
     ]
    },
    {
     "ename": "UnboundLocalError",
     "evalue": "local variable 'SCOTCH_LIB_PATH' referenced before assignment",
     "output_type": "error",
     "traceback": [
      "\u001b[0;31m---------------------------------------------------------------------------\u001b[0m",
      "\u001b[0;31mUnboundLocalError\u001b[0m                         Traceback (most recent call last)",
      "\u001b[0;32m<ipython-input-1-a08f54a50776>\u001b[0m in \u001b[0;36m<module>\u001b[0;34m()\u001b[0m\n\u001b[1;32m      1\u001b[0m \u001b[0;32mfrom\u001b[0m \u001b[0mgraph_partitioning\u001b[0m \u001b[0;32mimport\u001b[0m \u001b[0mscotch_partitioner\u001b[0m\u001b[0;34m\u001b[0m\u001b[0m\n\u001b[0;32m----> 2\u001b[0;31m \u001b[0mscotch_partitioner\u001b[0m\u001b[0;34m.\u001b[0m\u001b[0minit_scotch\u001b[0m\u001b[0;34m(\u001b[0m\u001b[0;34m'/home/sami/repos/smbwebs/csap-graphpartitioning/src/python'\u001b[0m\u001b[0;34m)\u001b[0m\u001b[0;34m\u001b[0m\u001b[0m\n\u001b[0m",
      "\u001b[0;32m/home/sami/repos/smbwebs/graph-partitioning/graph_partitioning/scotch_partitioner.py\u001b[0m in \u001b[0;36minit_scotch\u001b[0;34m(SCOTCH_PYLIB_REL_PATH)\u001b[0m\n\u001b[1;32m     32\u001b[0m \u001b[0;34m\u001b[0m\u001b[0m\n\u001b[1;32m     33\u001b[0m     \u001b[0;31m# check if the library file is present\u001b[0m\u001b[0;34m\u001b[0m\u001b[0;34m\u001b[0m\u001b[0m\n\u001b[0;32m---> 34\u001b[0;31m     \u001b[0;32mif\u001b[0m \u001b[0mos\u001b[0m\u001b[0;34m.\u001b[0m\u001b[0mpath\u001b[0m\u001b[0;34m.\u001b[0m\u001b[0misfile\u001b[0m\u001b[0;34m(\u001b[0m\u001b[0mSCOTCH_LIB_PATH\u001b[0m\u001b[0;34m)\u001b[0m \u001b[0;34m==\u001b[0m \u001b[0;32mFalse\u001b[0m\u001b[0;34m:\u001b[0m\u001b[0;34m\u001b[0m\u001b[0m\n\u001b[0m\u001b[1;32m     35\u001b[0m         \u001b[0;31m# check if the OS is linux and try and find the library on the default lib path\u001b[0m\u001b[0;34m\u001b[0m\u001b[0;34m\u001b[0m\u001b[0m\n\u001b[1;32m     36\u001b[0m         \u001b[0;32mif\u001b[0m \u001b[0mgetOS\u001b[0m\u001b[0;34m(\u001b[0m\u001b[0;34m)\u001b[0m \u001b[0;34m==\u001b[0m \u001b[0mOS\u001b[0m\u001b[0;34m.\u001b[0m\u001b[0mlinux\u001b[0m\u001b[0;34m:\u001b[0m\u001b[0;34m\u001b[0m\u001b[0m\n",
      "\u001b[0;31mUnboundLocalError\u001b[0m: local variable 'SCOTCH_LIB_PATH' referenced before assignment"
     ]
    }
   ],
   "source": [
    "from graph_partitioning import scotch_partitioner\n",
    "scotch_partitioner.init_scotch(\n",
    "    '/home/sami/repos/smbwebs/csap-graphpartitioning/src/python',\n",
    "    '/home/sami/repos/smbwebs/graph-partitioning/scotch/scotch_6.0.4/lib/libscotch.so'\n",
    ")"
   ]
  },
  {
   "cell_type": "code",
   "execution_count": 2,
   "metadata": {
    "collapsed": false
   },
   "outputs": [
    {
     "name": "stdout",
     "output_type": "stream",
     "text": [
      "Graph loaded...\n",
      "Nodes: 1000\n",
      "Edges: 2939\n",
      "Graph is undirected\n"
     ]
    }
   ],
   "source": [
    "gp.load_network()"
   ]
  },
  {
   "cell_type": "code",
   "execution_count": 3,
   "metadata": {
    "collapsed": false
   },
   "outputs": [
    {
     "name": "stdout",
     "output_type": "stream",
     "text": [
      "[3 1 2 0 0 0 0 2 3 1 3 1 0 1 1 0 3 2 0 0 1 2 3 2 1 3 2 3 0 1 0 2 0 3 3 0 1\n",
      " 3 2 1 2 1 3 1 1 2 1 3 3 2 0 3 3 2 3 2 0 0 1 0 2 0 1 2 1 1 3 2 1 3 1 0 0 1\n",
      " 3 2 0 3 3 0 2 3 0 2 1 3 1 0 1 0 0 3 3 0 0 2 3 2 1 3 1 0 2 0 1 1 1 0 1 3 2\n",
      " 0 2 3 0 1 3 1 0 2 1 1 0 0 0 3 0 2 0 1 0 3 1 3 3 1 1 2 3 3 1 2 2 0 2 1 3 2\n",
      " 0 3 0 1 1 0 1 2 1 2 3 0 1 1 0 0 1 3 1 3 3 1 3 1 2 3 2 1 1 0 0 1 2 0 1 2 3\n",
      " 1 2 1 0 2 3 2 3 0 0 1 3 0 1 0 2 3 3 1 0 2 2 1 0 2 3 3 3 0 0 0 2 0 2 2 1 1\n",
      " 1 1 2 2 2 0 0 0 1 2 3 3 3 1 3 0 0 1 2 2 0 3 3 2 2 1 0 1 1 3 0 3 3 3 3 2 3\n",
      " 0 3 3 0 2 3 1 0 2 2 3 3 3 1 3 1 2 0 1 2 1 2 3 3 2 1 1 0 2 0 0 0 1 0 1 2 3\n",
      " 2 0 3 1 0 0 3 2 1 0 1 2 1 1 2 2 0 2 3 0 3 0 1 1 0 1 0 1 2 3 3 1 0 0 2 3 3\n",
      " 3 0 0 3 1 3 0 3 1 2 2 3 2 1 1 1 2 1 2 3 3 2 0 0 2 3 1 1 2 2 1 0 1 2 1 0 2\n",
      " 0 3 3 3 2 3 3 2 0 3 3 2 3 0 0 3 2 0 3 1 1 3 2 3 2 3 0 0 0 3 1 3 0 0 0 1 0\n",
      " 3 0 2 1 0 1 0 3 0 2 2 0 0 3 0 1 3 1 3 1 3 1 3 2 0 1 0 1 2 3 0 3 1 3 0 2 3\n",
      " 0 2 0 0 1 2 1 3 2 3 2 0 2 2 1 3 1 3 1 3 2 2 0 0 0 3 2 1 1 0 3 3 3 3 2 2 2\n",
      " 2 0 3 3 3 1 1 0 1 3 1 0 2 0 2 3 3 0 1 3 2 3 3 3 1 3 1 3 0 3 2 3 1 3 3 1 3\n",
      " 1 1 3 0 0 1 2 3 2 2 3 1 1 2 2 2 1 1 0 3 1 2 3 2 1 2 2 2 2 1 2 0 0 1 1 0 0\n",
      " 0 1 3 2 2 3 0 1 0 3 3 3 2 0 3 2 2 3 0 1 1 2 0 3 1 1 2 2 0 3 2 2 0 2 1 2 2\n",
      " 3 3 2 2 1 2 0 3 2 1 0 1 0 3 3 1 2 0 1 3 0 0 3 0 1 0 0 1 2 0 2 0 2 3 1 0 2\n",
      " 1 1 3 2 3 3 0 3 1 1 1 0 3 3 0 1 0 1 2 2 0 3 2 1 0 3 0 2 1 2 1 1 2 3 2 0 3\n",
      " 0 1 0 2 0 0 1 1 3 0 0 2 1 0 2 1 2 1 1 3 2 2 3 3 1 1 2 2 2 2 0 1 0 0 1 3 3\n",
      " 1 0 1 1 1 3 3 3 1 3 0 1 1 0 0 0 0 2 0 1 3 3 3 0 2 2 0 0 1 2 1 3 3 2 2 2 3\n",
      " 2 2 2 1 3 1 0 1 0 0 1 2 3 1 0 1 2 2 1 0 0 2 1 0 3 2 3 0 3 3 2 1 0 2 1 3 1\n",
      " 3 1 0 1 0 0 3 0 3 1 2 0 0 3 0 0 2 3 0 3 1 1 3 3 2 2 1 3 3 0 2 0 2 2 0 2 1\n",
      " 1 3 3 0 3 1 1 1 0 1 2 0 0 3 3 3 2 3 0 3 2 3 2 1 1 2 1 0 0 2 1 1 1 1 1 2 3\n",
      " 0 3 3 3 2 1 0 1 2 1 0 0 1 1 0 1 0 1 0 0 1 0 0 1 0 0 0 1 1 2 0 2 0 1 0 1 0\n",
      " 2 2 0 1 2 1 3 0 0 3 3 3 2 2 0 1 2 0 1 2 2 3 1 2 3 0 1 1 2 2 0 2 3 1 0 3 1\n",
      " 2 0 3 2 1 0 1 0 3 0 0 0 0 0 2 1 2 3 3 1 1 3 3 3 2 1 2 2 0 1 2 1 0 1 0 2 1\n",
      " 0 1 0 1 1 2 0 0 0 3 2 0 1 1 1 3 2 0 0 0 2 1 3 3 3 0 1 1 3 2 3 3 3 1 2 1 0\n",
      " 1]\n",
      "PREDICTION MODEL\n",
      "----------------\n",
      "\n",
      "WASTE\t\tCUT RATIO\tEDGES CUT\tCOMM VOLUME\n",
      "0.00000\t\t0.0000000000\t0\t\t0\n",
      "\n",
      "Assignments:\n",
      "[-1 -1 -1 -1 -1 -1 -1 -1 -1 -1 -1 -1 -1 -1 -1 -1 -1 -1 -1 -1 -1 -1 -1 -1 -1 -1 -1 -1 -1 -1 -1 -1 -1 -1 -1 -1 -1 -1 -1 -1 -1 -1 -1 -1 -1 -1 -1 -1 -1 -1 -1 -1 -1 -1 -1 -1 -1 -1 -1 -1 -1 -1 -1 -1 -1 -1 -1 -1 -1 -1 -1 -1 -1 -1 -1 -1 -1 -1 -1 -1 -1 -1 -1 -1 -1 -1 -1 -1 -1 -1 -1 -1 -1 -1 -1 -1 -1 -1 -1 -1 -1 -1 -1 -1 -1 -1 -1 -1 -1 -1 -1 -1 -1 -1 -1 -1 -1 -1 -1 -1 -1 -1 -1 -1 -1 -1 -1 -1 -1 -1 -1 -1 -1 -1 -1 -1 -1 -1 -1 -1 -1 -1 -1 -1 -1 -1 -1 -1 -1 -1 -1 -1 -1 -1 -1 -1 -1 -1 -1 -1 -1 -1 -1 -1 -1 -1 -1 -1 -1 -1 -1 -1 -1 -1 -1 -1 -1 -1 -1 -1 -1 -1 -1 -1 -1 -1 -1 -1 -1 -1 -1 -1 -1 -1 -1 -1 -1 -1 -1 -1 -1 -1 -1 -1 -1 -1 -1 -1 -1 -1 -1 -1 -1 -1 -1 -1 -1 -1 -1 -1 -1 -1 -1 -1 -1 -1 -1 -1 -1 -1 -1 -1 -1 -1 -1 -1 -1 -1 -1 -1 -1 -1 -1 -1 -1 -1 -1 -1 -1 -1 -1 -1 -1 -1 -1 -1 -1 -1 -1 -1 -1 -1 -1 -1 -1 -1 -1 -1 -1 -1 -1 -1 -1 -1 -1 -1 -1 -1 -1 -1 -1 -1 -1 -1 -1 -1 -1 -1 -1 -1 -1 -1 -1 -1 -1 -1 -1 -1 -1 -1 -1 -1 -1 -1 -1 -1 -1 -1 -1 -1 -1 -1 -1 -1 -1 -1 -1 -1 -1 -1 -1 -1 -1 -1 -1 -1 -1 -1 -1 -1 -1 -1 -1 -1 -1 -1 -1 -1 -1 -1 -1 -1 -1 -1 -1 -1 -1 -1 -1 -1 -1 -1 -1 -1 -1 -1 -1 -1 -1 -1 -1 -1 -1 -1 -1 -1 -1 -1 -1 -1 -1 -1 -1 -1 -1 -1 -1 -1 -1 -1 -1 -1 -1 -1 -1 -1 -1 -1 -1 -1 -1 -1 -1 -1 -1 -1 -1 -1 -1 -1 -1 -1 -1 -1 -1 -1 -1 -1 -1 -1 -1 -1 -1 -1 -1 -1 -1 -1 -1 -1 -1 -1 -1 -1 -1 -1 -1 -1 -1 -1 -1 -1 -1 -1 -1 -1 -1 -1 -1 -1 -1 -1 -1 -1 -1 -1 -1 -1 -1 -1 -1 -1 -1 -1 -1 -1 -1 -1 -1 -1 -1 -1 -1 -1 -1 -1 -1 -1 -1 -1 -1 -1 -1 -1 -1 -1 -1 -1 -1 -1 -1 -1 -1 -1 -1 -1 -1 -1 -1 -1 -1 -1 -1 -1 -1 -1 -1 -1 -1 -1 -1 -1 -1 -1 -1 -1 -1 -1 -1 -1 -1 -1 -1 -1 -1 -1 -1 -1 -1 -1 -1 -1 -1 -1 -1 -1 -1 -1 -1 -1 -1 -1 -1 -1 -1 -1 -1 -1 -1 -1 -1 -1 -1 -1 -1 -1 -1 -1 -1 -1 -1 -1 -1 -1 -1 -1 -1 -1 -1 -1 -1 -1 -1 -1 -1 -1 -1 -1 -1 -1 -1 -1 -1 -1 -1 -1 -1 -1 -1 -1 -1 -1 -1 -1 -1 -1 -1 -1 -1 -1 -1 -1 -1 -1 -1 -1 -1 -1 -1 -1 -1 -1 -1 -1 -1 -1 -1 -1 -1 -1 -1 -1 -1 -1 -1 -1 -1 -1 -1 -1 -1 -1 -1 -1 -1 -1 -1 -1 -1 -1 -1 -1 -1 -1 -1 -1 -1 -1 -1 -1 -1 -1 -1 -1 -1 -1 -1 -1 -1 -1 -1 -1 -1 -1 -1 -1 -1 -1 -1 -1 -1 -1 -1 -1 -1 -1 -1 -1 -1 -1 -1 -1 -1 -1 -1 -1 -1 -1 -1 -1 -1 -1 -1 -1 -1 -1 -1 -1 -1 -1 -1 -1 -1 -1 -1 -1 -1 -1 -1 -1 -1 -1 -1 -1 -1 -1 -1 -1 -1 -1 -1 -1 -1 -1 -1 -1 -1 -1 -1 -1 -1 -1 -1 -1 -1 -1 -1 -1 -1 -1 -1 -1 -1 -1 -1 -1 -1 -1 -1 -1 -1 -1 -1 -1 -1 -1 -1 -1 -1 -1 -1 -1 -1 -1 -1 -1 -1 -1 -1 -1 -1 -1 -1 -1 -1 -1 -1 -1 -1 -1 -1 -1 -1 -1 -1 -1 -1 -1 -1 -1 -1 -1 -1 -1 -1 -1 -1 -1 -1 -1 -1 -1 -1 -1 -1 -1 -1 -1 -1 -1 -1 -1 -1 -1 -1 -1 -1 -1 -1 -1 -1 -1 -1 -1 -1 -1 -1 -1 -1 -1 -1 -1 -1 -1 -1 -1 -1 -1 -1 -1 -1 -1 -1 -1 -1 -1 -1 -1 -1 -1 -1 -1 -1 -1 -1 -1 -1 -1 -1 -1 -1 -1 -1 -1 -1 -1 -1 -1 -1 -1 -1 -1 -1 -1 -1 -1 -1 -1 -1 -1 -1 -1 -1 -1 -1 -1 -1 -1 -1 -1 -1 -1 -1 -1 -1 -1 -1 -1 -1 -1 -1 -1 -1 -1 -1 -1 -1 -1 -1 -1 -1 -1 -1 -1 -1 -1 -1 -1 -1 -1 -1 -1 -1 -1 -1 -1 -1 -1 -1 -1 -1 -1 -1 -1 -1 -1 -1 -1 -1 -1 -1 -1 -1 -1 -1 -1 -1 -1 -1 -1 -1 -1 -1 -1 -1 -1 -1 -1 -1 -1 -1 -1 -1 -1 -1 -1 -1 -1 -1 -1 -1 -1 -1 -1 -1 -1 -1 -1 -1 -1 -1 -1 -1 -1 -1 -1 -1 -1 -1 -1 -1 -1 -1 -1 -1 -1 -1 -1 -1 -1 -1 -1 -1 -1 -1 -1 -1 -1 -1 -1]\n",
      "\n",
      "Fixed: 0\n",
      "\n",
      "Partitions - nodes:\n",
      "P0: 0\n",
      "P1: 0\n",
      "P2: 0\n",
      "P3: 0\n"
     ]
    }
   ],
   "source": [
    "gp.prediction_model()"
   ]
  },
  {
   "cell_type": "code",
   "execution_count": 4,
   "metadata": {
    "collapsed": false
   },
   "outputs": [
    {
     "name": "stdout",
     "output_type": "stream",
     "text": [
      "Assign first 100 arrivals using prediction model, then discard\n",
      "\n",
      "WASTE\t\tCUT RATIO\tEDGES CUT\tCOMM VOLUME\n",
      "6.00000\t\t0.1697856414\t499\t\t476\n",
      "\n",
      "Assignments:\n",
      "[-1  1  2  0 -1  0  1 -1 -1 -1  2 -1  0  1 -1 -1 -1 -1 -1 -1  0 -1 -1 -1  0 -1 -1 -1  2 -1 -1  2 -1  1 -1 -1  0 -1 -1  1 -1  0 -1  1 -1  3  1 -1  3  2  0 -1 -1 -1 -1  2  3 -1  1  0 -1 -1 -1 -1  1 -1  1  2  3  2  1 -1 -1 -1 -1 -1  1 -1 -1  1 -1 -1 -1 -1  1 -1  1 -1 -1  0  1  3 -1  0  1 -1 -1 -1  0 -1  1 -1 -1 -1 -1  0 -1  0 -1  0 -1  1 -1 -1 -1  1  3  1 -1 -1  1 -1  0  3 -1  1 -1 -1  2  3  0 -1  1 -1 -1 -1  1 -1  3  1  1  2  3 -1 -1  2 -1  2 -1 -1 -1 -1  1  2  1  2  1 -1 -1 -1  1  3  0 -1  0  2  3  2 -1 -1 -1  1 -1  1 -1  1 -1 -1 -1  1 -1  0 -1 -1  1  0 -1  1 -1 -1 -1 -1 -1 -1  0  3 -1 -1  3  0 -1 -1 -1  3  2 -1 -1  1 -1 -1 -1 -1  3  0 -1  0 -1  1 -1 -1  0  3  1 -1 -1 -1 -1 -1 -1 -1 -1 -1 -1 -1 -1 -1 -1 -1 -1 -1 -1 -1 -1 -1 -1 -1 -1 -1 -1 -1 -1 -1 -1 -1 -1 -1 -1 -1 -1 -1 -1 -1 -1 -1 -1 -1 -1 -1 -1 -1 -1 -1 -1 -1 -1 -1 -1 -1 -1 -1 -1 -1 -1 -1 -1 -1 -1 -1 -1 -1 -1 -1 -1 -1 -1 -1 -1 -1 -1 -1 -1 -1 -1 -1 -1 -1 -1 -1 -1 -1 -1 -1 -1 -1 -1 -1 -1 -1 -1 -1 -1 -1 -1 -1 -1 -1 -1 -1 -1 -1 -1 -1 -1 -1 -1 -1 -1 -1 -1 -1 -1 -1 -1 -1 -1 -1 -1 -1 -1 -1 -1 -1 -1 -1 -1 -1 -1 -1 -1 -1 -1 -1 -1 -1 -1 -1 -1 -1 -1 -1 -1 -1 -1 -1 -1 -1 -1 -1 -1 -1 -1 -1 -1 -1 -1 -1 -1 -1 -1 -1 -1 -1 -1 -1 -1 -1 -1 -1 -1 -1 -1 -1 -1 -1 -1 -1 -1 -1 -1 -1 -1 -1 -1 -1 -1 -1 -1 -1 -1 -1 -1 -1 -1 -1 -1 -1 -1 -1 -1 -1 -1 -1 -1 -1 -1 -1 -1 -1 -1 -1 -1 -1 -1 -1 -1 -1 -1 -1 -1 -1 -1 -1 -1 -1 -1 -1 -1 -1 -1 -1 -1 -1 -1 -1 -1 -1 -1 -1 -1 -1 -1 -1 -1 -1 -1 -1 -1 -1 -1 -1 -1 -1 -1 -1 -1 -1 -1 -1 -1 -1 -1 -1 -1 -1 -1 -1 -1 -1 -1 -1 -1 -1 -1 -1 -1 -1 -1 -1 -1 -1 -1 -1 -1 -1 -1 -1 -1 -1 -1 -1 -1 -1 -1 -1 -1 -1 -1 -1 -1 -1 -1 -1 -1 -1 -1 -1 -1 -1 -1 -1 -1 -1 -1 -1 -1 -1 -1 -1 -1 -1 -1 -1 -1 -1 -1 -1 -1 -1 -1 -1 -1 -1 -1 -1 -1 -1 -1 -1 -1 -1 -1 -1 -1 -1 -1 -1 -1 -1 -1 -1 -1 -1 -1 -1 -1 -1 -1 -1 -1 -1 -1 -1 -1 -1 -1 -1 -1 -1 -1 -1 -1 -1 -1 -1 -1 -1 -1 -1 -1 -1 -1 -1 -1 -1 -1 -1 -1 -1 -1 -1 -1 -1 -1 -1 -1 -1 -1 -1 -1 -1 -1 -1 -1 -1 -1 -1 -1 -1 -1 -1 -1 -1 -1 -1 -1 -1 -1 -1 -1 -1 -1 -1 -1 -1 -1 -1 -1 -1 -1 -1 -1 -1 -1 -1 -1 -1 -1 -1 -1 -1 -1 -1 -1 -1 -1 -1 -1 -1 -1 -1 -1 -1 -1 -1 -1 -1 -1 -1 -1 -1 -1 -1 -1 -1 -1 -1 -1 -1 -1 -1 -1 -1 -1 -1 -1 -1 -1 -1 -1 -1 -1 -1 -1 -1 -1 -1 -1 -1 -1 -1 -1 -1 -1 -1 -1 -1 -1 -1 -1 -1 -1 -1 -1 -1 -1 -1 -1 -1 -1 -1 -1 -1 -1 -1 -1 -1 -1 -1 -1 -1 -1 -1 -1 -1 -1 -1 -1 -1 -1 -1 -1 -1 -1 -1 -1 -1 -1 -1 -1 -1 -1 -1 -1 -1 -1 -1 -1 -1 -1 -1 -1 -1 -1 -1 -1 -1 -1 -1 -1 -1 -1 -1 -1 -1 -1 -1 -1 -1 -1 -1 -1 -1 -1 -1 -1 -1 -1 -1 -1 -1 -1 -1 -1 -1 -1 -1 -1 -1 -1 -1 -1 -1 -1 -1 -1 -1 -1 -1 -1 -1 -1 -1 -1 -1 -1 -1 -1 -1 -1 -1 -1 -1 -1 -1 -1 -1 -1 -1 -1 -1 -1 -1 -1 -1 -1 -1 -1 -1 -1 -1 -1 -1 -1 -1 -1 -1 -1 -1 -1 -1 -1 -1 -1 -1 -1 -1 -1 -1 -1 -1 -1 -1 -1 -1 -1 -1 -1 -1 -1 -1 -1 -1 -1 -1 -1 -1 -1 -1 -1 -1 -1 -1 -1 -1 -1 -1 -1 -1 -1 -1 -1 -1 -1 -1 -1 -1 -1 -1 -1 -1 -1 -1 -1 -1 -1 -1 -1 -1 -1 -1 -1 -1 -1 -1 -1 -1 -1 -1 -1 -1 -1 -1 -1 -1 -1 -1 -1 -1 -1 -1 -1 -1 -1 -1 -1 -1 -1 -1 -1 -1 -1 -1 -1 -1 -1 -1 -1 -1 -1 -1 -1 -1 -1 -1 -1 -1 -1 -1 -1 -1 -1 -1 -1 -1 -1 -1 -1 -1 -1 -1 -1 -1 -1 -1 -1 -1 -1 -1 -1 -1]\n",
      "\n",
      "Fixed: 100\n",
      "\n",
      "Partitions - nodes:\n",
      "P0: 26\n",
      "P1: 40\n",
      "P2: 17\n",
      "P3: 17\n"
     ]
    }
   ],
   "source": [
    "gp.assign_cut_off()"
   ]
  },
  {
   "cell_type": "code",
   "execution_count": 5,
   "metadata": {
    "collapsed": false
   },
   "outputs": [
    {
     "name": "stdout",
     "output_type": "stream",
     "text": [
      "Assigning in batches of 100\n",
      "--------------------------------\n",
      "\n",
      "WASTE\t\tCUT RATIO\tEDGES CUT\tTOTAL COMM VOLUME\tALPHA\n",
      "4.40000\t\t0.0633802817\t9\t\t17\t\t0.0142000000\n",
      "2.80000\t\t0.0721003135\t23\t\t38\t\t0.0141777778\n",
      "4.00000\t\t0.0892857143\t50\t\t80\t\t0.0140000000\n",
      "4.00000\t\t0.1046831956\t76\t\t107\t\t0.0142141123\n",
      "\n",
      "Assignments:\n",
      "[-1  1  2  0 -1  0  1 -1 -1 -1  2 -1  0  1 -1 -1 -1 -1 -1 -1  0 -1 -1 -1  0 -1 -1 -1  2 -1 -1  2 -1  1 -1 -1  0 -1 -1  1 -1  0 -1  1 -1  3  1 -1  3  2  0 -1 -1 -1 -1  2  3 -1  1  0 -1 -1 -1 -1  1 -1  1  2  3  2  1 -1 -1 -1 -1 -1  1 -1 -1  1 -1 -1 -1 -1  1 -1  1 -1 -1  0  1  3 -1  0  1 -1 -1 -1  0 -1  1 -1 -1 -1 -1  0 -1  0 -1  0 -1  1 -1 -1 -1  1  3  1 -1 -1  1 -1  0  3 -1  1 -1 -1  2  3  0 -1  1 -1 -1 -1  1 -1  3  1  1  2  3 -1 -1  2 -1  2 -1 -1 -1 -1  1  2  1  2  1 -1 -1 -1  1  3  0 -1  0  2  3  2 -1 -1 -1  1 -1  1 -1  1 -1 -1 -1  1 -1  0 -1 -1  1  0 -1  1 -1 -1 -1 -1 -1 -1  0  3 -1 -1  3  0 -1 -1 -1  3  2 -1 -1  1 -1 -1 -1 -1  3  0 -1  0 -1  1 -1 -1  0  3  1  0 -1 -1 -1  0 -1 -1  3 -1 -1  1  2  3  2  1 -1  3 -1 -1 -1 -1 -1 -1 -1  2  3  2 -1  3  0 -1  3  2 -1 -1 -1 -1  3 -1  0 -1 -1  1  3  2 -1 -1 -1 -1 -1 -1  3 -1 -1  1  2 -1  2  3  1 -1  0 -1 -1 -1  0  1 -1 -1  2 -1 -1 -1  3  3 -1 -1 -1  0  3  2 -1 -1  1 -1  3  1  2 -1 -1 -1  2  2 -1 -1 -1  3 -1  0  3  0  2  3 -1  1 -1  2 -1 -1 -1 -1  0  3 -1  3  2  3  2 -1 -1  3 -1  2  2  1  3 -1  1 -1 -1 -1  3  1  1 -1 -1 -1  1 -1 -1 -1 -1  1  0 -1 -1  2  3 -1 -1 -1 -1  3 -1  0 -1 -1 -1 -1  2  0  2  1 -1 -1 -1  1  0 -1 -1 -1  2 -1 -1  0  0 -1 -1  1 -1  0 -1 -1 -1 -1  3 -1 -1  0  1 -1  3  0 -1 -1  2 -1 -1 -1  0 -1  1  3  2 -1 -1  3 -1  2 -1  0  3 -1 -1  3 -1  1  2 -1 -1  3  0 -1  1  0 -1 -1  0 -1 -1 -1  3 -1  2 -1 -1 -1  3  0 -1 -1 -1 -1  0 -1 -1 -1  0  1 -1  0 -1 -1  2 -1 -1 -1  0  3  3  3 -1 -1  0  1 -1 -1  2  1  3 -1 -1  2  1  2  0  2 -1  2 -1  2 -1 -1 -1  0 -1  3 -1 -1 -1  2 -1 -1  0 -1  0  1 -1  2 -1 -1 -1 -1 -1 -1 -1  0  2 -1 -1  3 -1  1 -1 -1  1 -1 -1 -1  3  0 -1 -1 -1  1 -1 -1  0  0  3 -1 -1 -1  0 -1 -1  2  1 -1  3  0  2  1 -1 -1 -1 -1 -1  3  0  3  0  1 -1  3  2 -1 -1 -1 -1 -1 -1  0 -1  3  2  3 -1 -1 -1 -1  2 -1  0 -1 -1 -1 -1  1 -1  3  1 -1 -1 -1 -1 -1  1  1 -1  0 -1  0  1 -1  3 -1  0 -1  2  0  2 -1  0 -1 -1  2 -1 -1 -1  3 -1  3  2  1  0 -1 -1 -1 -1  3 -1  1 -1 -1  2 -1  3  2  1 -1 -1  3 -1  2 -1  3  1  2 -1 -1  0  2  0  0  2 -1  2 -1  1  0  3 -1 -1 -1  3 -1 -1  1 -1  0  0 -1  3 -1  2 -1 -1 -1 -1  3 -1 -1 -1  1  0  1  0 -1 -1  3  2  0  1 -1 -1 -1 -1 -1 -1  3  3  3  0 -1 -1  2  2 -1  3  3  0 -1  0 -1 -1 -1  0 -1 -1  1 -1 -1  3 -1  2  3  3  2 -1  0  1  0 -1 -1 -1  0  1 -1 -1  2  3  0 -1  3  1 -1  0  2  0  3  3  0 -1  0  3 -1 -1 -1 -1 -1  3 -1  1 -1 -1 -1 -1  2  0  3  1 -1  3 -1 -1 -1 -1  2  0 -1 -1  3  1  1  0 -1  3  3 -1  2 -1 -1 -1 -1 -1  2 -1  2 -1  1  1 -1 -1  0  1  3 -1  0 -1  0  3 -1 -1 -1 -1 -1 -1 -1  1 -1  2 -1 -1 -1  1 -1 -1  1  0  0 -1  2  0 -1  0 -1  0 -1 -1  2 -1 -1 -1  0  2 -1  2 -1  0 -1  1 -1 -1  2  1  0  3 -1 -1  1 -1  1 -1 -1 -1  0 -1 -1 -1  0  2 -1 -1  2 -1 -1  3  0 -1 -1  2  0  1 -1 -1 -1 -1 -1  3 -1 -1 -1  0 -1 -1 -1 -1 -1 -1 -1  0  1 -1 -1 -1 -1  1  2  3  3  3 -1 -1 -1 -1  0  1 -1 -1 -1  0 -1  0 -1  1 -1 -1 -1 -1 -1  1  0 -1  3  1  0 -1 -1 -1 -1 -1 -1 -1  2  2 -1 -1  3  3  2 -1  1  1 -1 -1 -1 -1  2 -1  3  1 -1 -1 -1 -1  2  3 -1  3 -1 -1 -1 -1  0 -1  1 -1 -1 -1  2 -1 -1 -1 -1  2  1]\n",
      "\n",
      "Fixed: 452\n",
      "\n",
      "Partitions - nodes:\n",
      "P0: 123\n",
      "P1: 117\n",
      "P2: 101\n",
      "P3: 111\n"
     ]
    }
   ],
   "source": [
    "gp.batch_arrival()"
   ]
  },
  {
   "cell_type": "code",
   "execution_count": 6,
   "metadata": {
    "collapsed": false,
    "scrolled": false
   },
   "outputs": [
    {
     "name": "stdout",
     "output_type": "stream",
     "text": [
      "Complete graph with 1000 nodes\n",
      "Writing GML file: /home/sami/repos/smbwebs/graph-partitioning/output/oneshot_fennel_weights-165140-all-graph.gml\n",
      "Writing assignments: /home/sami/repos/smbwebs/graph-partitioning/output/oneshot_fennel_weights-165140-all-assignments.txt\n",
      "Writing edge list (for MaxPerm): /home/sami/repos/smbwebs/graph-partitioning/output/oneshot_fennel_weights-165140-all-edges-maxperm.txt\n",
      "Writing edge list (for OSLOM): /home/sami/repos/smbwebs/graph-partitioning/output/oneshot_fennel_weights-165140-all-edges-oslom.txt\n",
      "\n",
      "Config\n",
      "-------\n",
      "\n",
      "file: 165140\n",
      "num_partitions: 4\n",
      "num_iterations: 10\n",
      "prediction_model_cut_off: 0.1\n",
      "one_shot_alpha: 0.5\n",
      "restream_batches: 100\n",
      "use_virtual_nodes: False\n",
      "virtual_edge_weight: 1.0\n",
      "\n",
      "Metrics\n",
      "-------\n",
      "\n",
      "edges_cut: 76\n",
      "waste: 4.0000000000000036\n",
      "cut_ratio: 0.1046831955922865\n",
      "communication_volume: 107\n",
      "network_permanence: -0.428883\n",
      "Q: -0.003216803648809664\n",
      "NQ: -52.092663790515964\n",
      "Qds: -0.999999999999999\n",
      "intraEdges: 0.0\n",
      "interEdges: 34903.846153846156\n",
      "intraDensity: 0.0\n",
      "modularity degree: -1.452E7\n",
      "conductance: 1.0\n",
      "expansion: 34903.846153846156\n",
      "contraction: 0.0\n",
      "fitness: 0.0\n",
      "QovL: -1.8588223747282075E-8\n",
      "\n",
      "Partition 0 with 123 nodes\n",
      "-----------------------------\n",
      "\n",
      "Writing GML file: /home/sami/repos/smbwebs/graph-partitioning/output/oneshot_fennel_weights-165140-p0-graph.gml\n",
      "Writing assignments: /home/sami/repos/smbwebs/graph-partitioning/output/oneshot_fennel_weights-165140-p0-assignments.txt\n",
      "Writing edge list (for MaxPerm): /home/sami/repos/smbwebs/graph-partitioning/output/oneshot_fennel_weights-165140-p0-edges-maxperm.txt\n",
      "Writing edge list (for OSLOM): /home/sami/repos/smbwebs/graph-partitioning/output/oneshot_fennel_weights-165140-p0-edges-oslom.txt\n",
      "\n",
      "Metrics\n",
      "file: 165140\n",
      "partition: 0\n",
      "network_permanence: -0.962963\n",
      "Q: -0.010955514743393535\n",
      "NQ: -13.778328468024428\n",
      "Qds: -0.9999999999999998\n",
      "intraEdges: 0.0\n",
      "interEdges: 34137.93103448276\n",
      "intraDensity: 0.0\n",
      "modularity degree: -3960000.0\n",
      "conductance: 1.0\n",
      "expansion: 34137.93103448276\n",
      "contraction: 0.0\n",
      "fitness: 0.0\n",
      "QovL: -8.141732122022537E-7\n",
      "\n",
      "Partition 1 with 117 nodes\n",
      "-----------------------------\n",
      "\n",
      "Writing GML file: /home/sami/repos/smbwebs/graph-partitioning/output/oneshot_fennel_weights-165140-p1-graph.gml\n",
      "Writing assignments: /home/sami/repos/smbwebs/graph-partitioning/output/oneshot_fennel_weights-165140-p1-assignments.txt\n",
      "Writing edge list (for MaxPerm): /home/sami/repos/smbwebs/graph-partitioning/output/oneshot_fennel_weights-165140-p1-edges-maxperm.txt\n",
      "Writing edge list (for OSLOM): /home/sami/repos/smbwebs/graph-partitioning/output/oneshot_fennel_weights-165140-p1-edges-oslom.txt\n",
      "\n",
      "Metrics\n",
      "file: 165140\n",
      "partition: 1\n",
      "network_permanence: 1.000000\n",
      "Q: -0.011447174963243016\n",
      "NQ: -11.553536705938987\n",
      "Qds: -1.000000000000001\n",
      "intraEdges: 0.0\n",
      "interEdges: 37297.2972972973\n",
      "intraDensity: 0.0\n",
      "modularity degree: -4140000.0\n",
      "conductance: 1.0\n",
      "expansion: 37297.2972972973\n",
      "contraction: 0.0\n",
      "fitness: 0.0\n",
      "QovL: -9.290783997437716E-7\n",
      "\n",
      "Partition 2 with 101 nodes\n",
      "-----------------------------\n",
      "\n",
      "Writing GML file: /home/sami/repos/smbwebs/graph-partitioning/output/oneshot_fennel_weights-165140-p2-graph.gml\n",
      "Writing assignments: /home/sami/repos/smbwebs/graph-partitioning/output/oneshot_fennel_weights-165140-p2-assignments.txt\n",
      "Writing edge list (for MaxPerm): /home/sami/repos/smbwebs/graph-partitioning/output/oneshot_fennel_weights-165140-p2-edges-maxperm.txt\n",
      "Writing edge list (for OSLOM): /home/sami/repos/smbwebs/graph-partitioning/output/oneshot_fennel_weights-165140-p2-edges-oslom.txt\n",
      "\n",
      "Metrics\n",
      "file: 165140\n",
      "partition: 2\n",
      "network_permanence: 1.000000\n",
      "Q: -0.015066030132060246\n",
      "NQ: -11.712841972150214\n",
      "Qds: -0.999999999999999\n",
      "intraEdges: 0.0\n",
      "interEdges: 28539.325842696628\n",
      "intraDensity: 0.0\n",
      "modularity degree: -2540000.0\n",
      "conductance: 1.0\n",
      "expansion: 28539.325842696628\n",
      "contraction: 0.0\n",
      "fitness: 0.0\n",
      "QovL: -1.9020363757177457E-6\n",
      "\n",
      "Partition 3 with 111 nodes\n",
      "-----------------------------\n",
      "\n",
      "Writing GML file: /home/sami/repos/smbwebs/graph-partitioning/output/oneshot_fennel_weights-165140-p3-graph.gml\n",
      "Writing assignments: /home/sami/repos/smbwebs/graph-partitioning/output/oneshot_fennel_weights-165140-p3-assignments.txt\n",
      "Writing edge list (for MaxPerm): /home/sami/repos/smbwebs/graph-partitioning/output/oneshot_fennel_weights-165140-p3-edges-maxperm.txt\n",
      "Writing edge list (for OSLOM): /home/sami/repos/smbwebs/graph-partitioning/output/oneshot_fennel_weights-165140-p3-edges-oslom.txt\n",
      "\n",
      "Metrics\n",
      "file: 165140\n",
      "partition: 3\n",
      "network_permanence: 1.000000\n",
      "Q: -0.013717322608445858\n",
      "NQ: -15.681334387127079\n",
      "Qds: -0.9999999999999991\n",
      "intraEdges: 0.0\n",
      "interEdges: 24081.632653061224\n",
      "intraDensity: 0.0\n",
      "modularity degree: -2360000.0\n",
      "conductance: 1.0\n",
      "expansion: 24081.632653061224\n",
      "contraction: 0.0\n",
      "fitness: 0.0\n",
      "QovL: -1.4282926497757033E-6\n"
     ]
    }
   ],
   "source": [
    "gp.get_metrics()"
   ]
  },
  {
   "cell_type": "code",
   "execution_count": null,
   "metadata": {
    "collapsed": true
   },
   "outputs": [],
   "source": []
  }
 ],
 "metadata": {
  "kernelspec": {
   "display_name": "Python 3",
   "language": "python",
   "name": "python3"
  },
  "language_info": {
   "codemirror_mode": {
    "name": "ipython",
    "version": 3
   },
   "file_extension": ".py",
   "mimetype": "text/x-python",
   "name": "python",
   "nbconvert_exporter": "python",
   "pygments_lexer": "ipython3",
   "version": "3.5.2"
  }
 },
 "nbformat": 4,
 "nbformat_minor": 0
}
