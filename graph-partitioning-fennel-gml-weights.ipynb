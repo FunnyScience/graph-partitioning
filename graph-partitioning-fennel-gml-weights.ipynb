{
 "cells": [
  {
   "cell_type": "code",
   "execution_count": 1,
   "metadata": {
    "collapsed": false
   },
   "outputs": [
    {
     "name": "stdout",
     "output_type": "stream",
     "text": [
      "Loading graph data...\n",
      "Nodes: 77\n",
      "Edges: 508\n"
     ]
    }
   ],
   "source": [
    "import networkx as nx\n",
    "\n",
    "DATA_FILENAME = '/home/sami/py-graph/data/lesmis.gml'\n",
    "\n",
    "print(\"Loading graph data...\")\n",
    "U = nx.read_gml(DATA_FILENAME, label='id')\n",
    "G = U.to_directed()\n",
    "\n",
    "print(\"Nodes: {}\".format(G.number_of_nodes()))\n",
    "print(\"Edges: {}\".format(G.number_of_edges()))\n",
    "\n",
    "#edges, num_edges, num_nodes = get_clean_data(shuffle=True)"
   ]
  },
  {
   "cell_type": "code",
   "execution_count": 2,
   "metadata": {
    "collapsed": false
   },
   "outputs": [
    {
     "name": "stdout",
     "output_type": "stream",
     "text": [
      "Populating the interactive namespace from numpy and matplotlib\n"
     ]
    }
   ],
   "source": [
    "%load_ext Cython\n",
    "%pylab inline"
   ]
  },
  {
   "cell_type": "code",
   "execution_count": 3,
   "metadata": {
    "collapsed": true
   },
   "outputs": [],
   "source": [
    "%%cython\n",
    "import numpy as np\n",
    "from shared import fixed_width_print\n",
    "\n",
    "cdef int UNMAPPED = -1\n",
    "\n",
    "def fennel(int[:,::] edges,\n",
    "           float[::] edge_weights,\n",
    "           float[::] node_weights,\n",
    "           int num_partitions,\n",
    "           int[::] partition,\n",
    "           int[::] fixed,\n",
    "           float alpha,\n",
    "           int debug):\n",
    "    \"\"\"\n",
    "    This algorithm favors a cluster if it has many neighbors of a node, but\n",
    "    penalizes the cluster if it is close to capacity.\n",
    "    \n",
    "    partition: A previous partition of the nodes. Set to -1's if a node has not been assigned.\n",
    "    \"\"\"\n",
    "    \n",
    "    cdef int num_nodes = len(node_weights)\n",
    "    cdef int[::] partition_sizes = None\n",
    "    \n",
    "    # The output partition\n",
    "    if partition is None:\n",
    "        partition = np.repeat(np.int32(UNMAPPED), num_nodes)\n",
    "        partition_sizes = np.zeros(num_partitions, dtype=np.int32)\n",
    "    else:\n",
    "        partition_sizes = np.bincount(partition).astype(np.int32)\n",
    "        \n",
    "    if fixed is None:\n",
    "        fixed = np.repeat(np.int32(UNMAPPED), num_nodes)\n",
    "    \n",
    "    cdef int[::] partition_votes = np.zeros(num_partitions, dtype=np.int32)\n",
    "    \n",
    "    cdef float partition_capacity = num_nodes / num_partitions\n",
    "    \n",
    "    cdef int last_left = edges[0,0]\n",
    "    cdef int i = 0\n",
    "    cdef int left = 0\n",
    "    cdef int right = 0\n",
    "    cdef int arg = 0\n",
    "    cdef int max_arg = 0\n",
    "    cdef float max_val = 0\n",
    "    cdef float val = 0\n",
    "    cdef int len_edges = len(edges)\n",
    "    cdef int previous_assignment = 0\n",
    "\n",
    "    for i in range(len_edges):\n",
    "        left = edges[i,0]\n",
    "        right = edges[i,1]\n",
    "    \n",
    "        if last_left != left:\n",
    "            # New left node, so we have to assign last left\n",
    "\n",
    "            if debug:\n",
    "                print(\"Assigning node {}\".format(last_left))\n",
    "            \n",
    "            # Remember placement of last_left in the previous assignment\n",
    "            previous_assignment = partition[last_left]\n",
    "            \n",
    "            max_arg = 0\n",
    "            max_val = partition_votes[0] - alpha * partition_sizes[0]\n",
    "            if previous_assignment == 0:\n",
    "                # We remove the node from its current partition before\n",
    "                # deciding to re-add it, so subtract alpha to give\n",
    "                # result of 1 lower partition size.\n",
    "                max_val += alpha\n",
    "\n",
    "            for arg in range(1, num_partitions):\n",
    "                val = partition_votes[arg] - alpha * partition_sizes[arg]\n",
    "                if previous_assignment == arg:\n",
    "                    # See comment above\n",
    "                    val += alpha\n",
    "                if val > max_val:\n",
    "                    max_arg = arg\n",
    "                    max_val = val\n",
    "\n",
    "            if max_arg != previous_assignment:\n",
    "                partition[last_left] = max_arg\n",
    "                partition_sizes[max_arg] += 1\n",
    "                if previous_assignment != UNMAPPED:\n",
    "                    partition_sizes[previous_assignment] -= 1\n",
    "\n",
    "            partition_votes[:] = 0\n",
    "            last_left = left\n",
    "            \n",
    "            if debug:\n",
    "                fixed_width_print(np.asarray(partition))\n",
    "                fixed_width_print(np.asarray(fixed))\n",
    "\n",
    "        if partition[right] != -1:\n",
    "            partition_votes[partition[right]] += 1\n",
    "    \n",
    "    # TODO: finish off this fencepost....\n",
    "    if debug:\n",
    "        print(\"last one\")\n",
    "    partition[left] = 0\n",
    "    \n",
    "    return (np.asarray(partition), np.asarray(fixed))"
   ]
  },
  {
   "cell_type": "code",
   "execution_count": 7,
   "metadata": {
    "collapsed": false
   },
   "outputs": [
    {
     "name": "stdout",
     "output_type": "stream",
     "text": [
      "Initial assignment seed:\n",
      "[ 0  0  0  0  0  0  0  0  0  0  1  0  0  0  0  0  2  2  2  2  2  2  2  2  2  2  2  2  2  2  2  2  0  0  2  2  2  2  2  2  2  2  2  2  0  2  3  3  2  0  0  0  0  0  0  2  0  2  2  2  2  2  2  2  2  2  2  2  2  2  2  2  2  2  2  2  0]\n",
      "[-1 -1 -1 -1 -1 -1 -1 -1 -1 -1 -1 -1 -1 -1 -1 -1 -1 -1 -1 -1 -1 -1 -1 -1 -1 -1 -1 -1 -1 -1 -1 -1 -1 -1 -1 -1 -1 -1 -1 -1 -1 -1 -1 -1 -1 -1 -1 -1 -1 -1 -1 -1 -1 -1 -1 -1 -1 -1 -1 -1 -1 -1 -1 -1 -1 -1 -1 -1 -1 -1 -1 -1 -1 -1 -1 -1 -1]\n",
      "\n",
      "\n"
     ]
    }
   ],
   "source": [
    "num_iterations = 5\n",
    "\n",
    "edges = np.array(G.edges(), dtype=np.int32)\n",
    "edge_weights = np.array([x[2]['weight'] for x in G.edges(data=True)], dtype=np.float32)\n",
    "node_weights = np.array([x[1]['weight'] for x in G.nodes(data=True)], dtype=np.float32)\n",
    "\n",
    "alphas = np.linspace(1.251608191745264e-07, 7.588951557309824e-05, num_iterations)\n",
    "\n",
    "# run first pass - this is our initial seed\n",
    "assignments = None\n",
    "fixed = None\n",
    "for i in range(1):\n",
    "    alpha = alphas[i]\n",
    "    assignments, fixed = fennel(edges, edge_weights, node_weights, 4, assignments, fixed, alpha, 0)\n",
    "\n",
    "print(\"Initial assignment seed:\")\n",
    "fixed_width_print(assignments)\n",
    "fixed_width_print(fixed)\n",
    "print(\"\\n\")\n"
   ]
  },
  {
   "cell_type": "code",
   "execution_count": 5,
   "metadata": {
    "collapsed": true
   },
   "outputs": [],
   "source": [
    "from shared import score\n",
    "\n",
    "def run_fennel_restreaming(edges, num_nodes, num_partitions, num_iterations):\n",
    "    print('{} PARTITIONS'.format(num_partitions))\n",
    "    assignments = None\n",
    "    # We will explore this parameter in a future post. This is sub-optimal\n",
    "    alphas = np.linspace(1.251608191745264e-07, 7.588951557309824e-05, num_iterations)\n",
    "    waste_scores, edge_score_values = [], []\n",
    "    print('ROUND\\tALPHA\\tWASTE\\tSCORE\\tCUT')\n",
    "    for i in range(num_iterations):\n",
    "        alpha = alphas[i]\n",
    "        assignments = fennel(edges, num_nodes, num_partitions, assignments, alpha)\n",
    "        (waste, edge_score, cut) = score(assignments, edges)\n",
    "        print('{}\\t{:.1e}\\t{:0.3f}\\t{:0.3f}\\t{}'.format(i, alpha, waste, edge_score, cut))\n",
    "        waste_scores.append(waste)\n",
    "        edge_score_values.append(edge_score)\n"
   ]
  },
  {
   "cell_type": "code",
   "execution_count": null,
   "metadata": {
    "collapsed": true
   },
   "outputs": [],
   "source": []
  }
 ],
 "metadata": {
  "kernelspec": {
   "display_name": "Python 3",
   "language": "python",
   "name": "python3"
  },
  "language_info": {
   "codemirror_mode": {
    "name": "ipython",
    "version": 3
   },
   "file_extension": ".py",
   "mimetype": "text/x-python",
   "name": "python",
   "nbconvert_exporter": "python",
   "pygments_lexer": "ipython3",
   "version": "3.4.3"
  }
 },
 "nbformat": 4,
 "nbformat_minor": 0
}
