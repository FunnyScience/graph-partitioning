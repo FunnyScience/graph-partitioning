{
 "cells": [
  {
   "cell_type": "code",
   "execution_count": 1,
   "metadata": {
    "collapsed": false
   },
   "outputs": [
    {
     "name": "stdout",
     "output_type": "stream",
     "text": [
      "Populating the interactive namespace from numpy and matplotlib\n"
     ]
    },
    {
     "data": {
      "image/png": "[encoded data removed]",
      "text/plain": [
       "<matplotlib.figure.Figure at 0x7fdb1c23b748>"
      ]
     },
     "metadata": {},
     "output_type": "display_data"
    }
   ],
   "source": [
    "import numpy as np\n",
    "import networkx as nx\n",
    "%pylab inline\n",
    "\n",
    "G = nx.Graph()\n",
    "G.add_edges_from([(1, 2),\n",
    "                  (1, 3),\n",
    "                  (1, 5),\n",
    "                  (1, 7),\n",
    "                  (2, 1),\n",
    "                  (2, 3),\n",
    "                  (2, 4),\n",
    "                  (3, 1),\n",
    "                  (3, 2),\n",
    "                  (3, 4),\n",
    "                  (3, 5),\n",
    "                  (3, 7),\n",
    "                  (4, 2),\n",
    "                  (4, 3),\n",
    "                  (4, 10),\n",
    "                  (5, 1),\n",
    "                  (5, 3),\n",
    "                  (5, 6),\n",
    "                  (5, 7),\n",
    "                  (6, 5),\n",
    "                  (6, 8),\n",
    "                  (7, 1),\n",
    "                  (7, 3),\n",
    "                  (7, 5),\n",
    "                  (7, 8),\n",
    "                  (7, 9),\n",
    "                  (8, 6),\n",
    "                  (8, 7),\n",
    "                  (8, 9),\n",
    "                  (9, 7),\n",
    "                  (9, 8),\n",
    "                  (9, 10),\n",
    "                  (9, 11),\n",
    "                  (10, 4),\n",
    "                  (10, 9),\n",
    "                  (10, 12),\n",
    "                  (11, 9),\n",
    "                  (11, 12),\n",
    "                  (12, 10),\n",
    "                  (12, 11),\n",
    "                 ])\n",
    "nx.set_node_attributes(G, 'partition', {1: '0', 2: '0', 3: '0', 4: '0',\n",
    "                                        5: '1', 6: '1', 7: '1', 8: '1',\n",
    "                                        9: '2', 10: '2', 11: '2', 12: '2',\n",
    "                                       })\n",
    "assignments = np.asarray([-1, 0, 0, 0, 0, 1, 1, 1, 1, 2, 2, 2, 2])\n",
    "\n",
    "pos = nx.spring_layout(G, scale=5)\n",
    "nx.draw(G, pos, font_size=8)\n",
    "pylab.show()"
   ]
  },
  {
   "cell_type": "code",
   "execution_count": 2,
   "metadata": {
    "collapsed": false
   },
   "outputs": [],
   "source": [
    "def base_metrics(G):\n",
    "    \"\"\"\n",
    "    This algorithm calculates the number of edges cut and scores the communication steps. It gets\n",
    "    passed a networkx graph with a 'partition' attribute defining the partition of the node.\n",
    "\n",
    "    Communication steps described on slide 11:\n",
    "    https://www.cs.fsu.edu/~engelen/courses/HPC-adv/GraphPartitioning.pdf\n",
    "    \"\"\"\n",
    "    steps = 0\n",
    "    edges_cut = 0\n",
    "    seen = []\n",
    "    for n in G.nodes_iter():\n",
    "        partition_seen = []\n",
    "        for e in G.edges_iter(n):\n",
    "            left = e[0]\n",
    "            right = e[1]\n",
    "            left_partition = G.node[left]['partition']\n",
    "            right_partition = G.node[right]['partition']\n",
    "\n",
    "            if left_partition == right_partition:\n",
    "                # right node within same partition, skip\n",
    "                continue\n",
    "\n",
    "            if (n,right) not in seen:\n",
    "                # dealing with undirected graphs\n",
    "                seen.append((n,right))\n",
    "                seen.append((right,n))\n",
    "\n",
    "                if left_partition != right_partition:\n",
    "                    # right node in different partition\n",
    "                    edges_cut += 1\n",
    "\n",
    "            if left_partition != right_partition and right_partition not in partition_seen:\n",
    "                steps += 1\n",
    "                partition_seen.append(right_partition)\n",
    "\n",
    "    return (edges_cut, steps)"
   ]
  },
  {
   "cell_type": "code",
   "execution_count": 3,
   "metadata": {
    "collapsed": false
   },
   "outputs": [
    {
     "name": "stdout",
     "output_type": "stream",
     "text": [
      "\n",
      "Metrics\n",
      "-------\n",
      "\n",
      "Edges cut: 7\n",
      "Communication volume: 9\n"
     ]
    }
   ],
   "source": [
    "edges_cut, steps = base_metrics(G)\n",
    "\n",
    "print(\"\\nMetrics\")\n",
    "print(\"-------\\n\")\n",
    "print(\"Edges cut: {}\".format(edges_cut))\n",
    "print(\"Communication volume: {}\".format(steps))"
   ]
  },
  {
   "cell_type": "code",
   "execution_count": null,
   "metadata": {
    "collapsed": true
   },
   "outputs": [],
   "source": []
  }
 ],
 "metadata": {
  "kernelspec": {
   "display_name": "Python 3",
   "language": "python",
   "name": "python3"
  },
  "language_info": {
   "codemirror_mode": {
    "name": "ipython",
    "version": 3
   },
   "file_extension": ".py",
   "mimetype": "text/x-python",
   "name": "python",
   "nbconvert_exporter": "python",
   "pygments_lexer": "ipython3",
   "version": "3.4.3"
  }
 },
 "nbformat": 4,
 "nbformat_minor": 0
}
